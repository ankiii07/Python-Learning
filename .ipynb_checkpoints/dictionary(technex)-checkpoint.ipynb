{
 "cells": [
  {
   "cell_type": "markdown",
   "metadata": {},
   "source": [
    "# dictionary\n",
    "key:value"
   ]
  },
  {
   "cell_type": "code",
   "execution_count": 3,
   "metadata": {},
   "outputs": [],
   "source": [
    "student={\n",
    "    \"name\":\"ankit\",\n",
    "    \"age\":19,\n",
    "    \"subjects\":[\"coa\",\"dsuc\",\"maths\",\"universal human values\",\"css\"],\n",
    "    \"rollno\":1900290120016,\n",
    "    \"EnrollmentNo\":190029012004815,\n",
    "    \"Father's Name\":\"Ashok Kumar Yadav\",\n",
    "    \"Gender\":\"M\",\n",
    "    \"Semester\":2 ,\n",
    "     \"Even/Odd\":\"Even\",\n",
    "     \"Total Subject\":7,\n",
    "     \"Theory Subjects\":4,\n",
    "     \"Practical Subjects\":3,\n",
    "     \"Totalmarks\":736,\n",
    "     \"Result Status\":\"PASS\", \n",
    "     \"SGPA\":10,  \n",
    "}"
   ]
  },
  {
   "cell_type": "code",
   "execution_count": 5,
   "metadata": {},
   "outputs": [
    {
     "data": {
      "text/plain": [
       "'ankit'"
      ]
     },
     "execution_count": 5,
     "metadata": {},
     "output_type": "execute_result"
    }
   ],
   "source": [
    "student[\"name\"]"
   ]
  },
  {
   "cell_type": "code",
   "execution_count": 7,
   "metadata": {},
   "outputs": [
    {
     "data": {
      "text/plain": [
       "1900290120016"
      ]
     },
     "execution_count": 7,
     "metadata": {},
     "output_type": "execute_result"
    }
   ],
   "source": [
    "student.get(\"rollno\")"
   ]
  },
  {
   "cell_type": "code",
   "execution_count": 10,
   "metadata": {},
   "outputs": [
    {
     "name": "stdout",
     "output_type": "stream",
     "text": [
      "None\n"
     ]
    }
   ],
   "source": [
    "print(student.get(\"phone\"))"
   ]
  },
  {
   "cell_type": "code",
   "execution_count": 11,
   "metadata": {},
   "outputs": [],
   "source": [
    "student[\"phone\"]=8545859279"
   ]
  },
  {
   "cell_type": "code",
   "execution_count": 12,
   "metadata": {},
   "outputs": [
    {
     "data": {
      "text/plain": [
       "{'name': 'ankit',\n",
       " 'age': 19,\n",
       " 'subjects': ['coa', 'dsuc', 'maths', 'universal human values', 'css'],\n",
       " 'rollno': 1900290120016,\n",
       " 'EnrollmentNo': 190029012004815,\n",
       " \"Father's Name\": 'Ashok Kumar Yadav',\n",
       " 'Gender': 'M',\n",
       " 'Semester': 2,\n",
       " 'Even/Odd': 'Even',\n",
       " 'Total Subject': 7,\n",
       " 'Theory Subjects': 4,\n",
       " 'Practical Subjects': 3,\n",
       " 'Totalmarks': 736,\n",
       " 'Result Status': 'PASS',\n",
       " 'SGPA': 10,\n",
       " 'phone': 8545859279}"
      ]
     },
     "execution_count": 12,
     "metadata": {},
     "output_type": "execute_result"
    }
   ],
   "source": [
    "student"
   ]
  },
  {
   "cell_type": "code",
   "execution_count": 13,
   "metadata": {},
   "outputs": [],
   "source": [
    "student.update(\n",
    "{\n",
    "    \"name\":\"Ankit\",\n",
    "     \"Semester\":1,\n",
    "     \"Even/Odd\":\"Odd\",\n",
    "     \"Total Subjects\":6,\n",
    "     \"Theory Subjects\":3,\n",
    "     \"Practical Subjects\":3,\n",
    "     \"Totalmarks\":575\n",
    "})"
   ]
  },
  {
   "cell_type": "code",
   "execution_count": 14,
   "metadata": {},
   "outputs": [
    {
     "data": {
      "text/plain": [
       "{'name': 'Ankit',\n",
       " 'age': 19,\n",
       " 'subjects': ['coa', 'dsuc', 'maths', 'universal human values', 'css'],\n",
       " 'rollno': 1900290120016,\n",
       " 'EnrollmentNo': 190029012004815,\n",
       " \"Father's Name\": 'Ashok Kumar Yadav',\n",
       " 'Gender': 'M',\n",
       " 'Semester': 1,\n",
       " 'Even/Odd': 'Odd',\n",
       " 'Total Subject': 7,\n",
       " 'Theory Subjects': 3,\n",
       " 'Practical Subjects': 3,\n",
       " 'Totalmarks': 575,\n",
       " 'Result Status': 'PASS',\n",
       " 'SGPA': 10,\n",
       " 'phone': 8545859279,\n",
       " 'Total Subjects': 6}"
      ]
     },
     "execution_count": 14,
     "metadata": {},
     "output_type": "execute_result"
    }
   ],
   "source": [
    "student"
   ]
  },
  {
   "cell_type": "code",
   "execution_count": 15,
   "metadata": {},
   "outputs": [],
   "source": [
    "del student[\"age\"]"
   ]
  },
  {
   "cell_type": "code",
   "execution_count": 17,
   "metadata": {},
   "outputs": [
    {
     "data": {
      "text/plain": [
       "{'name': 'Ankit',\n",
       " 'subjects': ['coa', 'dsuc', 'maths', 'universal human values', 'css'],\n",
       " 'rollno': 1900290120016,\n",
       " 'EnrollmentNo': 190029012004815,\n",
       " \"Father's Name\": 'Ashok Kumar Yadav',\n",
       " 'Gender': 'M',\n",
       " 'Semester': 1,\n",
       " 'Even/Odd': 'Odd',\n",
       " 'Total Subject': 7,\n",
       " 'Theory Subjects': 3,\n",
       " 'Practical Subjects': 3,\n",
       " 'Totalmarks': 575,\n",
       " 'Result Status': 'PASS',\n",
       " 'SGPA': 10,\n",
       " 'phone': 8545859279,\n",
       " 'Total Subjects': 6}"
      ]
     },
     "execution_count": 17,
     "metadata": {},
     "output_type": "execute_result"
    }
   ],
   "source": [
    "student"
   ]
  },
  {
   "cell_type": "code",
   "execution_count": 18,
   "metadata": {},
   "outputs": [
    {
     "data": {
      "text/plain": [
       "7"
      ]
     },
     "execution_count": 18,
     "metadata": {},
     "output_type": "execute_result"
    }
   ],
   "source": [
    "student.pop(\"Total Subject\")"
   ]
  },
  {
   "cell_type": "code",
   "execution_count": 19,
   "metadata": {},
   "outputs": [
    {
     "data": {
      "text/plain": [
       "{'name': 'Ankit',\n",
       " 'subjects': ['coa', 'dsuc', 'maths', 'universal human values', 'css'],\n",
       " 'rollno': 1900290120016,\n",
       " 'EnrollmentNo': 190029012004815,\n",
       " \"Father's Name\": 'Ashok Kumar Yadav',\n",
       " 'Gender': 'M',\n",
       " 'Semester': 1,\n",
       " 'Even/Odd': 'Odd',\n",
       " 'Theory Subjects': 3,\n",
       " 'Practical Subjects': 3,\n",
       " 'Totalmarks': 575,\n",
       " 'Result Status': 'PASS',\n",
       " 'SGPA': 10,\n",
       " 'phone': 8545859279,\n",
       " 'Total Subjects': 6}"
      ]
     },
     "execution_count": 19,
     "metadata": {},
     "output_type": "execute_result"
    }
   ],
   "source": [
    "student"
   ]
  },
  {
   "cell_type": "code",
   "execution_count": 20,
   "metadata": {},
   "outputs": [
    {
     "data": {
      "text/plain": [
       "15"
      ]
     },
     "execution_count": 20,
     "metadata": {},
     "output_type": "execute_result"
    }
   ],
   "source": [
    "len(student)"
   ]
  },
  {
   "cell_type": "code",
   "execution_count": 21,
   "metadata": {},
   "outputs": [
    {
     "data": {
      "text/plain": [
       "dict_keys(['name', 'subjects', 'rollno', 'EnrollmentNo', \"Father's Name\", 'Gender', 'Semester', 'Even/Odd', 'Theory Subjects', 'Practical Subjects', 'Totalmarks', 'Result Status', 'SGPA', 'phone', 'Total Subjects'])"
      ]
     },
     "execution_count": 21,
     "metadata": {},
     "output_type": "execute_result"
    }
   ],
   "source": [
    "student.keys()"
   ]
  },
  {
   "cell_type": "code",
   "execution_count": 23,
   "metadata": {},
   "outputs": [
    {
     "data": {
      "text/plain": [
       "dict_items([('name', 'Ankit'), ('subjects', ['coa', 'dsuc', 'maths', 'universal human values', 'css']), ('rollno', 1900290120016), ('EnrollmentNo', 190029012004815), (\"Father's Name\", 'Ashok Kumar Yadav'), ('Gender', 'M'), ('Semester', 1), ('Even/Odd', 'Odd'), ('Theory Subjects', 3), ('Practical Subjects', 3), ('Totalmarks', 575), ('Result Status', 'PASS'), ('SGPA', 10), ('phone', 8545859279), ('Total Subjects', 6)])"
      ]
     },
     "execution_count": 23,
     "metadata": {},
     "output_type": "execute_result"
    }
   ],
   "source": [
    "student.items()"
   ]
  },
  {
   "cell_type": "code",
   "execution_count": 24,
   "metadata": {},
   "outputs": [
    {
     "data": {
      "text/plain": [
       "('Total Subjects', 6)"
      ]
     },
     "execution_count": 24,
     "metadata": {},
     "output_type": "execute_result"
    }
   ],
   "source": [
    "student.popitem()"
   ]
  },
  {
   "cell_type": "code",
   "execution_count": 25,
   "metadata": {},
   "outputs": [],
   "source": [
    "a=student.copy()"
   ]
  },
  {
   "cell_type": "code",
   "execution_count": 26,
   "metadata": {},
   "outputs": [
    {
     "data": {
      "text/plain": [
       "{'name': 'Ankit',\n",
       " 'subjects': ['coa', 'dsuc', 'maths', 'universal human values', 'css'],\n",
       " 'rollno': 1900290120016,\n",
       " 'EnrollmentNo': 190029012004815,\n",
       " \"Father's Name\": 'Ashok Kumar Yadav',\n",
       " 'Gender': 'M',\n",
       " 'Semester': 1,\n",
       " 'Even/Odd': 'Odd',\n",
       " 'Theory Subjects': 3,\n",
       " 'Practical Subjects': 3,\n",
       " 'Totalmarks': 575,\n",
       " 'Result Status': 'PASS',\n",
       " 'SGPA': 10,\n",
       " 'phone': 8545859279}"
      ]
     },
     "execution_count": 26,
     "metadata": {},
     "output_type": "execute_result"
    }
   ],
   "source": [
    "a"
   ]
  },
  {
   "cell_type": "code",
   "execution_count": 28,
   "metadata": {},
   "outputs": [],
   "source": [
    "ankitprofile=dict(a)"
   ]
  },
  {
   "cell_type": "code",
   "execution_count": 29,
   "metadata": {},
   "outputs": [
    {
     "data": {
      "text/plain": [
       "{'name': 'Ankit',\n",
       " 'subjects': ['coa', 'dsuc', 'maths', 'universal human values', 'css'],\n",
       " 'rollno': 1900290120016,\n",
       " 'EnrollmentNo': 190029012004815,\n",
       " \"Father's Name\": 'Ashok Kumar Yadav',\n",
       " 'Gender': 'M',\n",
       " 'Semester': 1,\n",
       " 'Even/Odd': 'Odd',\n",
       " 'Theory Subjects': 3,\n",
       " 'Practical Subjects': 3,\n",
       " 'Totalmarks': 575,\n",
       " 'Result Status': 'PASS',\n",
       " 'SGPA': 10,\n",
       " 'phone': 8545859279}"
      ]
     },
     "execution_count": 29,
     "metadata": {},
     "output_type": "execute_result"
    }
   ],
   "source": [
    "ankitprofile\n"
   ]
  },
  {
   "cell_type": "code",
   "execution_count": 30,
   "metadata": {},
   "outputs": [],
   "source": [
    "del ankitprofile"
   ]
  },
  {
   "cell_type": "code",
   "execution_count": 31,
   "metadata": {},
   "outputs": [
    {
     "ename": "NameError",
     "evalue": "name 'ankitprofile' is not defined",
     "output_type": "error",
     "traceback": [
      "\u001b[1;31m---------------------------------------------------------------------------\u001b[0m",
      "\u001b[1;31mNameError\u001b[0m                                 Traceback (most recent call last)",
      "\u001b[1;32m<ipython-input-31-dd50d0a17c04>\u001b[0m in \u001b[0;36m<module>\u001b[1;34m\u001b[0m\n\u001b[1;32m----> 1\u001b[1;33m \u001b[0mankitprofile\u001b[0m\u001b[1;33m\u001b[0m\u001b[1;33m\u001b[0m\u001b[0m\n\u001b[0m",
      "\u001b[1;31mNameError\u001b[0m: name 'ankitprofile' is not defined"
     ]
    }
   ],
   "source": [
    "ankitprofile"
   ]
  },
  {
   "cell_type": "markdown",
   "metadata": {},
   "source": [
    "# Nested Dictionary \n",
    "two dict in one dict"
   ]
  },
  {
   "cell_type": "code",
   "execution_count": 37,
   "metadata": {},
   "outputs": [],
   "source": [
    "student={\n",
    "    \"first\":{\n",
    "         \"Name\":\"ANURAG SHUKLA\",\n",
    "        \"Institute Name\":\"KIET GROUP OF INSTITUTIONS GHAZIABAD\",\n",
    "        \"CourseName\":\"B.TECH\",\n",
    "        \"Branch Name\":\"COMPUTER SCIENCE\",\n",
    "        \"RollNo\":1900290120020,\n",
    "        \"EnrollmentNo\":190029012004819,\n",
    "        \"Father Name\":\"SUNEET KUMAR SHUKLA\",\n",
    "        \"Gender\":\"M\"\n",
    "    },\n",
    "    \"second\":\n",
    "    {\n",
    "         \"Name\":\"Ankit Yadav\",\n",
    "     \"Institute Name\":\" KIET GROUP OF INSTITUTIONS,GHAZIABAD\",\n",
    "     \"Course Code Name\":\"B.TECH\",\n",
    "    \"Branch Code Name\":\"COMPUTER SCIENCE\",\n",
    "     \"RollNo\":1900290120016,\n",
    "     \"EnrollmentNo\":190029012004815,\n",
    "     \"Father's Name\":\"Ashok Kumar Yadav\",\n",
    "     \"Gender\":\"M\"\n",
    "    },\n",
    "    \"third\":\n",
    "    {\n",
    "        \"Name\":\"Aakriti Singh\",\n",
    "        \"Institute Name\":\"KIET GROUP OF INSTITUTIONS,GHAZIABAD\",\n",
    "        \"Course Name\":\"B.TECH\",\n",
    "        \"Branch Name\":\"COMPUTER SCIENCE\",\n",
    "        \"RollNo\":1900290120002,\n",
    "        \"EnrollmentNo\":190029012004801,\n",
    "        \"Father's Name\":\"RAM SANEHI\",\n",
    "        \"Gender\":\"F\"\n",
    "    }\n",
    "}"
   ]
  },
  {
   "cell_type": "code",
   "execution_count": 38,
   "metadata": {},
   "outputs": [
    {
     "data": {
      "text/plain": [
       "{'first': {'Name': 'ANURAG SHUKLA',\n",
       "  'Institute Name': 'KIET GROUP OF INSTITUTIONS GHAZIABAD',\n",
       "  'CourseName': 'B.TECH',\n",
       "  'Branch Name': 'COMPUTER SCIENCE',\n",
       "  'RollNo': 1900290120020,\n",
       "  'EnrollmentNo': 190029012004819,\n",
       "  'Father Name': 'SUNEET KUMAR SHUKLA',\n",
       "  'Gender': 'M'},\n",
       " 'second': {'Name': 'Ankit Yadav',\n",
       "  'Institute Name': ' KIET GROUP OF INSTITUTIONS,GHAZIABAD',\n",
       "  'Course Code Name': 'B.TECH',\n",
       "  'Branch Code Name': 'COMPUTER SCIENCE',\n",
       "  'RollNo': 1900290120016,\n",
       "  'EnrollmentNo': 190029012004815,\n",
       "  \"Father's Name\": 'Ashok Kumar Yadav',\n",
       "  'Gender': 'M'},\n",
       " 'third': {'Name': 'Aakriti Singh',\n",
       "  'Institute Name': 'KIET GROUP OF INSTITUTIONS,GHAZIABAD',\n",
       "  'Course Name': 'B.TECH',\n",
       "  'Branch Name': 'COMPUTER SCIENCE',\n",
       "  'RollNo': 1900290120002,\n",
       "  'EnrollmentNo': 190029012004801,\n",
       "  \"Father's Name\": 'RAM SANEHI',\n",
       "  'Gender': 'F'}}"
      ]
     },
     "execution_count": 38,
     "metadata": {},
     "output_type": "execute_result"
    }
   ],
   "source": [
    "student"
   ]
  },
  {
   "cell_type": "code",
   "execution_count": 39,
   "metadata": {},
   "outputs": [
    {
     "data": {
      "text/plain": [
       "{'Name': 'ANURAG SHUKLA',\n",
       " 'Institute Name': 'KIET GROUP OF INSTITUTIONS GHAZIABAD',\n",
       " 'CourseName': 'B.TECH',\n",
       " 'Branch Name': 'COMPUTER SCIENCE',\n",
       " 'RollNo': 1900290120020,\n",
       " 'EnrollmentNo': 190029012004819,\n",
       " 'Father Name': 'SUNEET KUMAR SHUKLA',\n",
       " 'Gender': 'M'}"
      ]
     },
     "execution_count": 39,
     "metadata": {},
     "output_type": "execute_result"
    }
   ],
   "source": [
    "student[\"first\"]"
   ]
  },
  {
   "cell_type": "code",
   "execution_count": 40,
   "metadata": {},
   "outputs": [
    {
     "data": {
      "text/plain": [
       "'ANURAG SHUKLA'"
      ]
     },
     "execution_count": 40,
     "metadata": {},
     "output_type": "execute_result"
    }
   ],
   "source": [
    "student[\"first\"][\"Name\"]"
   ]
  },
  {
   "cell_type": "code",
   "execution_count": 42,
   "metadata": {},
   "outputs": [
    {
     "data": {
      "text/plain": [
       "1900290120002"
      ]
     },
     "execution_count": 42,
     "metadata": {},
     "output_type": "execute_result"
    }
   ],
   "source": [
    "student[\"third\"][\"RollNo\"]"
   ]
  },
  {
   "cell_type": "markdown",
   "metadata": {},
   "source": [
    "# 3 Dictionary in one dictionary"
   ]
  },
  {
   "cell_type": "code",
   "execution_count": 44,
   "metadata": {},
   "outputs": [],
   "source": [
    "first={\n",
    "         \"Name\":\"ANURAG SHUKLA\",\n",
    "        \"Institute Name\":\"KIET GROUP OF INSTITUTIONS GHAZIABAD\",\n",
    "        \"CourseName\":\"B.TECH\",\n",
    "        \"Branch Name\":\"COMPUTER SCIENCE\",\n",
    "        \"RollNo\":1900290120020,\n",
    "        \"EnrollmentNo\":190029012004819,\n",
    "        \"Father Name\":\"SUNEET KUMAR SHUKLA\",\n",
    "        \"Gender\":\"M\"\n",
    "    }"
   ]
  },
  {
   "cell_type": "code",
   "execution_count": 46,
   "metadata": {},
   "outputs": [],
   "source": [
    "second={\n",
    "         \"Name\":\"Ankit Yadav\",\n",
    "     \"Institute Name\":\" KIET GROUP OF INSTITUTIONS,GHAZIABAD\",\n",
    "     \"Course Code Name\":\"B.TECH\",\n",
    "    \"Branch Code Name\":\"COMPUTER SCIENCE\",\n",
    "     \"RollNo\":1900290120016,\n",
    "     \"EnrollmentNo\":190029012004815,\n",
    "     \"Father's Name\":\"Ashok Kumar Yadav\",\n",
    "     \"Gender\":\"M\"\n",
    "    }"
   ]
  },
  {
   "cell_type": "code",
   "execution_count": 47,
   "metadata": {},
   "outputs": [],
   "source": [
    " third={\n",
    "        \"Name\":\"Aakriti Singh\",\n",
    "        \"Institute Name\":\"KIET GROUP OF INSTITUTIONS,GHAZIABAD\",\n",
    "        \"Course Name\":\"B.TECH\",\n",
    "        \"Branch Name\":\"COMPUTER SCIENCE\",\n",
    "        \"RollNo\":1900290120002,\n",
    "        \"EnrollmentNo\":190029012004801,\n",
    "        \"Father's Name\":\"RAM SANEHI\",\n",
    "        \"Gender\":\"F\"\n",
    "    }"
   ]
  },
  {
   "cell_type": "code",
   "execution_count": 48,
   "metadata": {},
   "outputs": [],
   "source": [
    "student={\n",
    "    \"1\":first,\n",
    "    \"2\":second,\n",
    "    \"3\":third\n",
    "}\n"
   ]
  },
  {
   "cell_type": "code",
   "execution_count": 61,
   "metadata": {},
   "outputs": [
    {
     "data": {
      "text/plain": [
       "{'1': {'Name': 'ANURAG SHUKLA',\n",
       "  'Institute Name': 'KIET GROUP OF INSTITUTIONS GHAZIABAD',\n",
       "  'CourseName': 'B.TECH',\n",
       "  'Branch Name': 'COMPUTER SCIENCE',\n",
       "  'RollNo': 1900290120020,\n",
       "  'EnrollmentNo': 190029012004819,\n",
       "  'Father Name': 'SUNEET KUMAR SHUKLA',\n",
       "  'Gender': 'M'},\n",
       " '2': ({'Name': 'Ankit Yadav',\n",
       "   'Institute Name': ' KIET GROUP OF INSTITUTIONS,GHAZIABAD',\n",
       "   'Course Code Name': 'B.TECH',\n",
       "   'Branch Code Name': 'COMPUTER SCIENCE',\n",
       "   'RollNo': 1900290120016,\n",
       "   'EnrollmentNo': 190029012004815,\n",
       "   \"Father's Name\": 'Ashok Kumar Yadav',\n",
       "   'Gender': 'M'},),\n",
       " '3': {'Name': 'Aakriti Singh',\n",
       "  'Institute Name': 'KIET GROUP OF INSTITUTIONS,GHAZIABAD',\n",
       "  'Course Name': 'B.TECH',\n",
       "  'Branch Name': 'COMPUTER SCIENCE',\n",
       "  'RollNo': 1900290120002,\n",
       "  'EnrollmentNo': 190029012004801,\n",
       "  \"Father's Name\": 'RAM SANEHI',\n",
       "  'Gender': 'F'}}"
      ]
     },
     "execution_count": 61,
     "metadata": {},
     "output_type": "execute_result"
    }
   ],
   "source": [
    "student"
   ]
  },
  {
   "cell_type": "markdown",
   "metadata": {},
   "source": [
    "# dict() constructor"
   ]
  },
  {
   "cell_type": "code",
   "execution_count": 58,
   "metadata": {},
   "outputs": [],
   "source": [
    "d=dict(name=\"ankit\",\n",
    "     )  "
   ]
  },
  {
   "cell_type": "code",
   "execution_count": 59,
   "metadata": {},
   "outputs": [
    {
     "data": {
      "text/plain": [
       "{'name': 'ankit'}"
      ]
     },
     "execution_count": 59,
     "metadata": {},
     "output_type": "execute_result"
    }
   ],
   "source": [
    "d"
   ]
  },
  {
   "cell_type": "markdown",
   "metadata": {},
   "source": [
    "# function in python"
   ]
  },
  {
   "cell_type": "markdown",
   "metadata": {},
   "source": [
    "# defining a function"
   ]
  },
  {
   "cell_type": "code",
   "execution_count": 62,
   "metadata": {},
   "outputs": [],
   "source": [
    "def mytask():\n",
    "    print(\"i am your first function\")"
   ]
  },
  {
   "cell_type": "code",
   "execution_count": 67,
   "metadata": {},
   "outputs": [
    {
     "name": "stdout",
     "output_type": "stream",
     "text": [
      "i am your first function\n",
      "i am your first function\n"
     ]
    }
   ],
   "source": [
    "mytask()\n",
    "mytask()"
   ]
  },
  {
   "cell_type": "code",
   "execution_count": 85,
   "metadata": {},
   "outputs": [
    {
     "name": "stdout",
     "output_type": "stream",
     "text": [
      "9\n"
     ]
    }
   ],
   "source": [
    "def add(x,y):  #formal argumnents\n",
    "    z=x+y\n",
    "    print(z)\n",
    "    \n",
    "    \n",
    "add(5,4)    #actual arguments"
   ]
  },
  {
   "cell_type": "code",
   "execution_count": 86,
   "metadata": {},
   "outputs": [],
   "source": [
    "def add(x,y):\n",
    "    c=x+y\n",
    "    return c"
   ]
  },
  {
   "cell_type": "code",
   "execution_count": 87,
   "metadata": {},
   "outputs": [
    {
     "data": {
      "text/plain": [
       "11"
      ]
     },
     "execution_count": 87,
     "metadata": {},
     "output_type": "execute_result"
    }
   ],
   "source": [
    "add(4,7)"
   ]
  },
  {
   "cell_type": "code",
   "execution_count": 88,
   "metadata": {},
   "outputs": [
    {
     "name": "stdout",
     "output_type": "stream",
     "text": [
      "14\n"
     ]
    }
   ],
   "source": [
    "print(add(6,8))"
   ]
  },
  {
   "cell_type": "code",
   "execution_count": 89,
   "metadata": {},
   "outputs": [],
   "source": [
    "def add_sub(x,y):\n",
    "    c=x+y\n",
    "    v=x-y\n",
    "    return c,v"
   ]
  },
  {
   "cell_type": "code",
   "execution_count": 90,
   "metadata": {},
   "outputs": [
    {
     "data": {
      "text/plain": [
       "(112, 44)"
      ]
     },
     "execution_count": 90,
     "metadata": {},
     "output_type": "execute_result"
    }
   ],
   "source": [
    "add_sub(78,34)"
   ]
  },
  {
   "cell_type": "markdown",
   "metadata": {},
   "source": [
    "# formal arguments"
   ]
  },
  {
   "cell_type": "code",
   "execution_count": 94,
   "metadata": {},
   "outputs": [
    {
     "name": "stdout",
     "output_type": "stream",
     "text": [
      "ankit\n",
      "19\n"
     ]
    }
   ],
   "source": [
    "def employee(name,age):\n",
    "    print(name)\n",
    "    print(age)\n",
    "    \n",
    "    \n",
    "employee(\"ankit\",19)"
   ]
  },
  {
   "cell_type": "code",
   "execution_count": 95,
   "metadata": {},
   "outputs": [],
   "source": [
    "def add_sub(x,y):\n",
    "    c=x+y\n",
    "    v=x-y\n",
    "    return c,v"
   ]
  },
  {
   "cell_type": "code",
   "execution_count": 96,
   "metadata": {},
   "outputs": [
    {
     "ename": "TypeError",
     "evalue": "add_sub() takes 2 positional arguments but 3 were given",
     "output_type": "error",
     "traceback": [
      "\u001b[1;31m---------------------------------------------------------------------------\u001b[0m",
      "\u001b[1;31mTypeError\u001b[0m                                 Traceback (most recent call last)",
      "\u001b[1;32m<ipython-input-96-cc5c7a1c68ba>\u001b[0m in \u001b[0;36m<module>\u001b[1;34m\u001b[0m\n\u001b[1;32m----> 1\u001b[1;33m \u001b[0madd_sub\u001b[0m\u001b[1;33m(\u001b[0m\u001b[1;36m4\u001b[0m\u001b[1;33m,\u001b[0m\u001b[1;36m6\u001b[0m\u001b[1;33m,\u001b[0m\u001b[1;36m8\u001b[0m\u001b[1;33m)\u001b[0m\u001b[1;33m\u001b[0m\u001b[1;33m\u001b[0m\u001b[0m\n\u001b[0m",
      "\u001b[1;31mTypeError\u001b[0m: add_sub() takes 2 positional arguments but 3 were given"
     ]
    }
   ],
   "source": [
    "add_sub(4,6,8)"
   ]
  },
  {
   "cell_type": "code",
   "execution_count": 97,
   "metadata": {},
   "outputs": [],
   "source": [
    "def add_sub(x,*y):\n",
    "    c=x+y\n",
    "    v=x-y\n",
    "    return c,v"
   ]
  },
  {
   "cell_type": "code",
   "execution_count": 99,
   "metadata": {
    "scrolled": false
   },
   "outputs": [
    {
     "ename": "TypeError",
     "evalue": "unsupported operand type(s) for +: 'int' and 'tuple'",
     "output_type": "error",
     "traceback": [
      "\u001b[1;31m---------------------------------------------------------------------------\u001b[0m",
      "\u001b[1;31mTypeError\u001b[0m                                 Traceback (most recent call last)",
      "\u001b[1;32m<ipython-input-99-68cf625c3542>\u001b[0m in \u001b[0;36m<module>\u001b[1;34m\u001b[0m\n\u001b[1;32m----> 1\u001b[1;33m \u001b[0madd_sub\u001b[0m\u001b[1;33m(\u001b[0m\u001b[1;36m1\u001b[0m\u001b[1;33m,\u001b[0m\u001b[1;36m6\u001b[0m\u001b[1;33m,\u001b[0m\u001b[1;36m7\u001b[0m\u001b[1;33m,\u001b[0m\u001b[1;36m3\u001b[0m\u001b[1;33m,\u001b[0m\u001b[1;36m8\u001b[0m\u001b[1;33m)\u001b[0m\u001b[1;33m\u001b[0m\u001b[1;33m\u001b[0m\u001b[0m\n\u001b[0m",
      "\u001b[1;32m<ipython-input-97-c991236ce1f6>\u001b[0m in \u001b[0;36madd_sub\u001b[1;34m(x, *y)\u001b[0m\n\u001b[0;32m      1\u001b[0m \u001b[1;32mdef\u001b[0m \u001b[0madd_sub\u001b[0m\u001b[1;33m(\u001b[0m\u001b[0mx\u001b[0m\u001b[1;33m,\u001b[0m\u001b[1;33m*\u001b[0m\u001b[0my\u001b[0m\u001b[1;33m)\u001b[0m\u001b[1;33m:\u001b[0m\u001b[1;33m\u001b[0m\u001b[1;33m\u001b[0m\u001b[0m\n\u001b[1;32m----> 2\u001b[1;33m     \u001b[0mc\u001b[0m\u001b[1;33m=\u001b[0m\u001b[0mx\u001b[0m\u001b[1;33m+\u001b[0m\u001b[0my\u001b[0m\u001b[1;33m\u001b[0m\u001b[1;33m\u001b[0m\u001b[0m\n\u001b[0m\u001b[0;32m      3\u001b[0m     \u001b[0mv\u001b[0m\u001b[1;33m=\u001b[0m\u001b[0mx\u001b[0m\u001b[1;33m-\u001b[0m\u001b[0my\u001b[0m\u001b[1;33m\u001b[0m\u001b[1;33m\u001b[0m\u001b[0m\n\u001b[0;32m      4\u001b[0m     \u001b[1;32mreturn\u001b[0m \u001b[0mc\u001b[0m\u001b[1;33m,\u001b[0m\u001b[0mv\u001b[0m\u001b[1;33m\u001b[0m\u001b[1;33m\u001b[0m\u001b[0m\n",
      "\u001b[1;31mTypeError\u001b[0m: unsupported operand type(s) for +: 'int' and 'tuple'"
     ]
    }
   ],
   "source": [
    "add_sub(1,6,7,3,8)"
   ]
  },
  {
   "cell_type": "code",
   "execution_count": 10,
   "metadata": {},
   "outputs": [],
   "source": [
    "def welcome(*name):\n",
    "    for i in name:\n",
    "        print(\"welcome\\n\"+i)"
   ]
  },
  {
   "cell_type": "code",
   "execution_count": 13,
   "metadata": {},
   "outputs": [
    {
     "name": "stdout",
     "output_type": "stream",
     "text": [
      "welcomeabc\n"
     ]
    }
   ],
   "source": [
    "welcome(\"abc\")"
   ]
  },
  {
   "cell_type": "code",
   "execution_count": 14,
   "metadata": {},
   "outputs": [
    {
     "name": "stdout",
     "output_type": "stream",
     "text": [
      "welcomeabc\n",
      "welcomeabc1\n"
     ]
    }
   ],
   "source": [
    "welcome(\"abc\",\"abc1\")"
   ]
  },
  {
   "cell_type": "code",
   "execution_count": 5,
   "metadata": {},
   "outputs": [],
   "source": [
    "a=(1,2,3,4.6)"
   ]
  },
  {
   "cell_type": "code",
   "execution_count": 6,
   "metadata": {},
   "outputs": [
    {
     "data": {
      "text/plain": [
       "tuple"
      ]
     },
     "execution_count": 6,
     "metadata": {},
     "output_type": "execute_result"
    }
   ],
   "source": [
    "type(a)"
   ]
  },
  {
   "cell_type": "code",
   "execution_count": 7,
   "metadata": {},
   "outputs": [
    {
     "data": {
      "text/plain": [
       "5.6"
      ]
     },
     "execution_count": 7,
     "metadata": {},
     "output_type": "execute_result"
    }
   ],
   "source": [
    "1+a[3]"
   ]
  },
  {
   "cell_type": "code",
   "execution_count": 8,
   "metadata": {},
   "outputs": [
    {
     "ename": "TypeError",
     "evalue": "unsupported operand type(s) for +: 'int' and 'tuple'",
     "output_type": "error",
     "traceback": [
      "\u001b[1;31m---------------------------------------------------------------------------\u001b[0m",
      "\u001b[1;31mTypeError\u001b[0m                                 Traceback (most recent call last)",
      "\u001b[1;32m<ipython-input-8-014d72a43ff4>\u001b[0m in \u001b[0;36m<module>\u001b[1;34m\u001b[0m\n\u001b[1;32m----> 1\u001b[1;33m \u001b[1;36m1\u001b[0m\u001b[1;33m+\u001b[0m\u001b[0ma\u001b[0m\u001b[1;33m\u001b[0m\u001b[1;33m\u001b[0m\u001b[0m\n\u001b[0m",
      "\u001b[1;31mTypeError\u001b[0m: unsupported operand type(s) for +: 'int' and 'tuple'"
     ]
    }
   ],
   "source": [
    "1+a"
   ]
  },
  {
   "cell_type": "code",
   "execution_count": 16,
   "metadata": {},
   "outputs": [],
   "source": [
    "def add(a,b):\n",
    "    print(a,b)"
   ]
  },
  {
   "cell_type": "code",
   "execution_count": 17,
   "metadata": {},
   "outputs": [
    {
     "name": "stdout",
     "output_type": "stream",
     "text": [
      "1 2\n"
     ]
    }
   ],
   "source": [
    "add(1,2)"
   ]
  },
  {
   "cell_type": "code",
   "execution_count": 28,
   "metadata": {},
   "outputs": [],
   "source": [
    "def add(a,*b):\n",
    "    print(\"a=\",a)\n",
    "    print(\"b=\",b)"
   ]
  },
  {
   "cell_type": "code",
   "execution_count": 29,
   "metadata": {},
   "outputs": [
    {
     "name": "stdout",
     "output_type": "stream",
     "text": [
      "a= 1\n",
      "b= (2, 3, 4, 5.6)\n"
     ]
    }
   ],
   "source": [
    "add(1,2,3,4,5.6)"
   ]
  },
  {
   "cell_type": "code",
   "execution_count": 26,
   "metadata": {},
   "outputs": [],
   "source": [
    "def add(a,*b):\n",
    "    c=a+b\n",
    "    print(c)"
   ]
  },
  {
   "cell_type": "code",
   "execution_count": 27,
   "metadata": {},
   "outputs": [
    {
     "ename": "TypeError",
     "evalue": "unsupported operand type(s) for +: 'int' and 'tuple'",
     "output_type": "error",
     "traceback": [
      "\u001b[1;31m---------------------------------------------------------------------------\u001b[0m",
      "\u001b[1;31mTypeError\u001b[0m                                 Traceback (most recent call last)",
      "\u001b[1;32m<ipython-input-27-44b73c3a6eb9>\u001b[0m in \u001b[0;36m<module>\u001b[1;34m\u001b[0m\n\u001b[1;32m----> 1\u001b[1;33m \u001b[0madd\u001b[0m\u001b[1;33m(\u001b[0m\u001b[1;36m1\u001b[0m\u001b[1;33m,\u001b[0m\u001b[1;36m2.9\u001b[0m\u001b[1;33m,\u001b[0m\u001b[1;36m4\u001b[0m\u001b[1;33m,\u001b[0m\u001b[1;36m8\u001b[0m\u001b[1;33m,\u001b[0m\u001b[1;36m9.6\u001b[0m\u001b[1;33m,\u001b[0m\u001b[1;36m6.3\u001b[0m\u001b[1;33m)\u001b[0m\u001b[1;33m\u001b[0m\u001b[1;33m\u001b[0m\u001b[0m\n\u001b[0m",
      "\u001b[1;32m<ipython-input-26-cd51af824a70>\u001b[0m in \u001b[0;36madd\u001b[1;34m(a, *b)\u001b[0m\n\u001b[0;32m      1\u001b[0m \u001b[1;32mdef\u001b[0m \u001b[0madd\u001b[0m\u001b[1;33m(\u001b[0m\u001b[0ma\u001b[0m\u001b[1;33m,\u001b[0m\u001b[1;33m*\u001b[0m\u001b[0mb\u001b[0m\u001b[1;33m)\u001b[0m\u001b[1;33m:\u001b[0m\u001b[1;33m\u001b[0m\u001b[1;33m\u001b[0m\u001b[0m\n\u001b[1;32m----> 2\u001b[1;33m     \u001b[0mc\u001b[0m\u001b[1;33m=\u001b[0m\u001b[0ma\u001b[0m\u001b[1;33m+\u001b[0m\u001b[0mb\u001b[0m\u001b[1;33m\u001b[0m\u001b[1;33m\u001b[0m\u001b[0m\n\u001b[0m\u001b[0;32m      3\u001b[0m     \u001b[0mprint\u001b[0m\u001b[1;33m(\u001b[0m\u001b[0mc\u001b[0m\u001b[1;33m)\u001b[0m\u001b[1;33m\u001b[0m\u001b[1;33m\u001b[0m\u001b[0m\n",
      "\u001b[1;31mTypeError\u001b[0m: unsupported operand type(s) for +: 'int' and 'tuple'"
     ]
    }
   ],
   "source": [
    "add(1,2.9,4,8,9.6,6.3)"
   ]
  },
  {
   "cell_type": "code",
   "execution_count": 52,
   "metadata": {},
   "outputs": [],
   "source": [
    "def add(a,*b):\n",
    "    print(\"a=\",a)\n",
    "    print(\"b=\",b)\n",
    "    c=a\n",
    "    for i in b:\n",
    "        c=c+i\n",
    "        print(c)   "
   ]
  },
  {
   "cell_type": "code",
   "execution_count": 53,
   "metadata": {},
   "outputs": [
    {
     "name": "stdout",
     "output_type": "stream",
     "text": [
      "a= 1\n",
      "b= (2.9, 4, 8, 9.6, 6.3)\n",
      "3.9\n",
      "7.9\n",
      "15.9\n",
      "25.5\n",
      "31.8\n"
     ]
    }
   ],
   "source": [
    "add(1,2.9,4,8,9.6,6.3)"
   ]
  },
  {
   "cell_type": "code",
   "execution_count": 57,
   "metadata": {},
   "outputs": [],
   "source": [
    "def add(*a,b):\n",
    "    print(\"a=\",a)\n",
    "    print(\"b=\",b)\n",
    "    "
   ]
  },
  {
   "cell_type": "code",
   "execution_count": 58,
   "metadata": {},
   "outputs": [
    {
     "ename": "TypeError",
     "evalue": "add() missing 1 required keyword-only argument: 'b'",
     "output_type": "error",
     "traceback": [
      "\u001b[1;31m---------------------------------------------------------------------------\u001b[0m",
      "\u001b[1;31mTypeError\u001b[0m                                 Traceback (most recent call last)",
      "\u001b[1;32m<ipython-input-58-b2e81e47afeb>\u001b[0m in \u001b[0;36m<module>\u001b[1;34m\u001b[0m\n\u001b[1;32m----> 1\u001b[1;33m \u001b[0madd\u001b[0m\u001b[1;33m(\u001b[0m\u001b[1;36m1\u001b[0m\u001b[1;33m,\u001b[0m\u001b[1;36m3\u001b[0m\u001b[1;33m,\u001b[0m\u001b[1;36m7\u001b[0m\u001b[1;33m,\u001b[0m\u001b[1;36m9\u001b[0m\u001b[1;33m)\u001b[0m\u001b[1;33m\u001b[0m\u001b[1;33m\u001b[0m\u001b[0m\n\u001b[0m",
      "\u001b[1;31mTypeError\u001b[0m: add() missing 1 required keyword-only argument: 'b'"
     ]
    }
   ],
   "source": [
    "add(1,3,7,9)"
   ]
  },
  {
   "cell_type": "markdown",
   "metadata": {},
   "source": [
    "# anonymous(nameless) function"
   ]
  },
  {
   "cell_type": "code",
   "execution_count": 59,
   "metadata": {},
   "outputs": [],
   "source": [
    "#function without name is called anonymous function"
   ]
  },
  {
   "cell_type": "code",
   "execution_count": 62,
   "metadata": {},
   "outputs": [],
   "source": [
    "def sq(a):\n",
    "    return a*a"
   ]
  },
  {
   "cell_type": "code",
   "execution_count": 63,
   "metadata": {},
   "outputs": [
    {
     "data": {
      "text/plain": [
       "49"
      ]
     },
     "execution_count": 63,
     "metadata": {},
     "output_type": "execute_result"
    }
   ],
   "source": [
    "sq(7)"
   ]
  },
  {
   "cell_type": "code",
   "execution_count": 64,
   "metadata": {},
   "outputs": [],
   "source": [
    "s=lambda a:a*a"
   ]
  },
  {
   "cell_type": "code",
   "execution_count": 65,
   "metadata": {},
   "outputs": [
    {
     "data": {
      "text/plain": [
       "16"
      ]
     },
     "execution_count": 65,
     "metadata": {},
     "output_type": "execute_result"
    }
   ],
   "source": [
    "s(4)"
   ]
  },
  {
   "cell_type": "code",
   "execution_count": 66,
   "metadata": {},
   "outputs": [],
   "source": [
    "a=lambda a,b:a+b\n"
   ]
  },
  {
   "cell_type": "code",
   "execution_count": 68,
   "metadata": {},
   "outputs": [
    {
     "data": {
      "text/plain": [
       "6"
      ]
     },
     "execution_count": 68,
     "metadata": {},
     "output_type": "execute_result"
    }
   ],
   "source": [
    "a(2,4)"
   ]
  },
  {
   "cell_type": "code",
   "execution_count": 70,
   "metadata": {},
   "outputs": [],
   "source": [
    "r=lambda *a:a"
   ]
  },
  {
   "cell_type": "markdown",
   "metadata": {},
   "source": [
    "r(1,2,3,4,5)"
   ]
  },
  {
   "cell_type": "code",
   "execution_count": 85,
   "metadata": {},
   "outputs": [
    {
     "data": {
      "text/plain": [
       "(1, 2, 6, 4, 5)"
      ]
     },
     "execution_count": 85,
     "metadata": {},
     "output_type": "execute_result"
    }
   ],
   "source": [
    "r(1,2,6,4,5)"
   ]
  },
  {
   "cell_type": "code",
   "execution_count": 95,
   "metadata": {},
   "outputs": [],
   "source": [
    "n=(1,3,6,7,9,4)"
   ]
  },
  {
   "cell_type": "code",
   "execution_count": 96,
   "metadata": {},
   "outputs": [],
   "source": [
    "def even(r):\n",
    "    return r%2==0"
   ]
  },
  {
   "cell_type": "code",
   "execution_count": 97,
   "metadata": {},
   "outputs": [
    {
     "data": {
      "text/plain": [
       "True"
      ]
     },
     "execution_count": 97,
     "metadata": {},
     "output_type": "execute_result"
    }
   ],
   "source": [
    "even(56)"
   ]
  },
  {
   "cell_type": "code",
   "execution_count": 98,
   "metadata": {},
   "outputs": [],
   "source": [
    "e=list(filter(even,n))"
   ]
  },
  {
   "cell_type": "code",
   "execution_count": 99,
   "metadata": {},
   "outputs": [
    {
     "name": "stdout",
     "output_type": "stream",
     "text": [
      "[6, 4]\n"
     ]
    }
   ],
   "source": [
    "print(e)"
   ]
  },
  {
   "cell_type": "code",
   "execution_count": 100,
   "metadata": {},
   "outputs": [],
   "source": [
    "e1=list(filter(lambda a:a%2==0,n))"
   ]
  },
  {
   "cell_type": "code",
   "execution_count": 101,
   "metadata": {},
   "outputs": [
    {
     "data": {
      "text/plain": [
       "[6, 4]"
      ]
     },
     "execution_count": 101,
     "metadata": {},
     "output_type": "execute_result"
    }
   ],
   "source": [
    "e1"
   ]
  },
  {
   "cell_type": "code",
   "execution_count": null,
   "metadata": {},
   "outputs": [],
   "source": []
  }
 ],
 "metadata": {
  "kernelspec": {
   "display_name": "Python 3",
   "language": "python",
   "name": "python3"
  },
  "language_info": {
   "codemirror_mode": {
    "name": "ipython",
    "version": 3
   },
   "file_extension": ".py",
   "mimetype": "text/x-python",
   "name": "python",
   "nbconvert_exporter": "python",
   "pygments_lexer": "ipython3",
   "version": "3.8.3"
  }
 },
 "nbformat": 4,
 "nbformat_minor": 4
}
