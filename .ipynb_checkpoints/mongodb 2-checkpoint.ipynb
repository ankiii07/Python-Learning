{
 "cells": [
  {
   "cell_type": "markdown",
   "metadata": {},
   "source": [
    "# Mongodb aggegrate and group"
   ]
  },
  {
   "cell_type": "code",
   "execution_count": null,
   "metadata": {},
   "outputs": [],
   "source": [
    "# db.orders.aggregate([\n",
    "  # { $match: { status: \"A\" } },\n",
    "   #{ $group: { _id: \"$cust_id\", total: { $sum: \"$amount\" } } }\n",
    "#])"
   ]
  },
  {
   "cell_type": "code",
   "execution_count": 22,
   "metadata": {},
   "outputs": [],
   "source": [
    "from pymongo import MongoClient\n",
    "\n",
    "#creation of mongoclient\n",
    "client=MongoClient()\n",
    "\n",
    "#connect with the port number host\n",
    "client=MongoClient(\"mongodb://localhost:27017/\")\n",
    "\n",
    "#access the database\n",
    "mydb=client['Students']\n",
    "collectiona=mydb['studentmarks']\n",
    "data = [\n",
    "    {\n",
    "        \"Name\":\"Aakriti Singh\",\n",
    "        \"Institute Code & Name\":\"029 & KIET GROUP OF INSTITUTIONS,GHAZIABAD\",\n",
    "        \"Course Code & Name\":\"04 & B.TECH\",\n",
    "        \"Branch Code & Name\":\"12 & COMPUTER SCIENCE\",\n",
    "        \"RollNo\":1900290120002,\n",
    "        \"EnrollmentNo\":190029012004801,\n",
    "        \"Father's Name\":\"RAM SANEHI\",\n",
    "        \"Gender\":\"F\",\n",
    "         \"Semester\":1,\n",
    "         \"Even/Odd\":\"Odd\",\n",
    "         \"Total Subjects\":6,\n",
    "         \"Theory Subjects\":3,\n",
    "         \"Practical Subjects\":3,\n",
    "         \"Totalmarks\":507,\n",
    "         \"Result Status\":\"CP( 0)\",\n",
    "         \"SGPA\":8.74,\n",
    "         \"Semester\":2 ,\n",
    "         \"Even/Odd\":\"Even\",\n",
    "         \"Total Subject\":7,\n",
    "         \"Theory Subjects\":4,\n",
    "         \"Practical Subjects\":3,\n",
    "         \"Totalmarks\":658,\n",
    "         \"Result Status\":\"PASS\", \n",
    "         \"SGPA\":9.44\n",
    "     },\n",
    "    {\n",
    "         \"Name\":\"Ankit Yadav\",\n",
    "     \"Institute Code & Name\":\"029 & KIET GROUP OF INSTITUTIONS,GHAZIABAD\",\n",
    "     \"Course Code & Name\":\"04 & B.TECH\",\n",
    "    \"Branch Code & Name\":\"12 & COMPUTER SCIENCE\",\n",
    "     \"RollNo\":1900290120016,\n",
    "     \"EnrollmentNo\":190029012004815,\n",
    "     \"Father's Name\":\"Ashok Kumar Yadav\",\n",
    "     \"Gender\":\"M\",\n",
    "     \"Semester\":1,\n",
    "     \"Even/Odd\":\"Odd\",\n",
    "     \"Total Subjects\":6,\n",
    "     \"Theory Subjects\":3,\n",
    "     \"Practical Subjects\":3,\n",
    "     \"Totalmarks\":575,\n",
    "     \"Result Status\":\"CP( 0)\",\n",
    "     \"SGPA\":10,\n",
    "     \"Semester\":2 ,\n",
    "     \"Even/Odd\":\"Even\",\n",
    "     \"Total Subject\":7,\n",
    "     \"Theory Subjects\":4,\n",
    "     \"Practical Subjects\":3,\n",
    "     \"Totalmarks\":736,\n",
    "     \"Result Status\":\"PASS\", \n",
    "     \"SGPA\":10,  \n",
    "    },\n",
    "    {\n",
    "        \"Name\":\"ANURAG SHUKLA\",\n",
    "        \"Institute Name\":\"KIET GROUP OF INSTITUTIONS GHAZIABAD\",\n",
    "        \"CourseName\":\"B.TECH\",\n",
    "        \"Branch Name\":\"COMPUTER SCIENCE\",\n",
    "        \"RollNo\":1900290120020,\n",
    "        \"EnrollmentNo\":190029012004819,\n",
    "        \"Father Name\":\"SUNEET KUMAR SHUKLA\",\n",
    "        \"Gender\":\"M\",\n",
    "        \"Semester\":1,\n",
    "        \"Even/Odd\":\"Odd\",\n",
    "        \"Total Subjects\":6,\n",
    "        \"Theory Subjects\":3,\n",
    "        \"Practical Subjects\":3,\n",
    "        \"Totalmarks\":496,\n",
    "        \"Result Status\":\"CP 0\",\n",
    "        \"SGPA\":8.69,\n",
    "        \"Semester\":2,\n",
    "        \"Even/Odd\":\"Even\",\n",
    "        \"Total Subjects\":7,\n",
    "        \"Theory Subjects\":4,\n",
    "        \"Practical Subjects\":3,\n",
    "        \"Totalmarks\":646,\n",
    "         \"SGPA\":9\n",
    "    }]\n",
    "\n"
   ]
  },
  {
   "cell_type": "code",
   "execution_count": 23,
   "metadata": {},
   "outputs": [
    {
     "data": {
      "text/plain": [
       "<pymongo.results.InsertManyResult at 0x201e64fc5c0>"
      ]
     },
     "execution_count": 23,
     "metadata": {},
     "output_type": "execute_result"
    }
   ],
   "source": [
    "collectiona.insert_many(data)"
   ]
  },
  {
   "cell_type": "code",
   "execution_count": 6,
   "metadata": {},
   "outputs": [
    {
     "name": "stdout",
     "output_type": "stream",
     "text": [
      "{'_id': 'Ankit Yadav', 'total Semester': 4}\n",
      "{'_id': 'Aakriti Singh', 'total Semester': 4}\n",
      "{'_id': 'ANURAG SHUKLA', 'total Semester': 4}\n"
     ]
    }
   ],
   "source": [
    "#total number of records\n",
    "agg_result=collectiona.aggregate(\n",
    "[\n",
    "    {\n",
    "        \"$group\":\n",
    "        {\n",
    "            \"_id\":\"$Name\",\n",
    "            \"total Semester\":{\"$sum\":\"$Semester\"}\n",
    "        }\n",
    "    }\n",
    "])\n",
    "for i in agg_result:\n",
    "    print(i)"
   ]
  },
  {
   "cell_type": "code",
   "execution_count": 14,
   "metadata": {},
   "outputs": [],
   "source": [
    "## CALCULATING THE TOTAL SCORE BASE ON Nmae\n",
    "agg_result=collectiona.aggregate(\n",
    "[\n",
    "    {\n",
    "        \"$group\":\n",
    "        {\n",
    "            \"_id\":\"$Name\",\n",
    "            \"rollnumber\":{\"$sum\":\"$RollNo\"} \n",
    "        }\n",
    "    }\n",
    "])"
   ]
  },
  {
   "cell_type": "code",
   "execution_count": 15,
   "metadata": {},
   "outputs": [
    {
     "name": "stdout",
     "output_type": "stream",
     "text": [
      "{'_id': 'Ankit Yadav', 'rollnumber': 3800580240032}\n",
      "{'_id': 'Aakriti Singh', 'rollnumber': 3800580240004}\n",
      "{'_id': 'ANURAG SHUKLA', 'rollnumber': 3800580240040}\n"
     ]
    }
   ],
   "source": [
    "for i in agg_result:\n",
    "    print(i)"
   ]
  },
  {
   "cell_type": "code",
   "execution_count": 16,
   "metadata": {},
   "outputs": [],
   "source": [
    "#calculating the average score\n",
    "agg_result=collectiona.aggregate(\n",
    "[\n",
    "    {\n",
    "        \"$group\":\n",
    "        {\n",
    "            \"_id\":\"$Name\",\n",
    "            \"average score\":{\"$avg\":\"$Totalmarks\"} \n",
    "        }\n",
    "    }\n",
    "])"
   ]
  },
  {
   "cell_type": "code",
   "execution_count": 17,
   "metadata": {},
   "outputs": [
    {
     "name": "stdout",
     "output_type": "stream",
     "text": [
      "{'_id': 'Ankit Yadav', 'average score': 736.0}\n",
      "{'_id': 'ANURAG SHUKLA', 'average score': 646.0}\n",
      "{'_id': 'Aakriti Singh', 'average score': 658.0}\n"
     ]
    }
   ],
   "source": [
    "for i in agg_result:\n",
    "    print(i)"
   ]
  },
  {
   "cell_type": "code",
   "execution_count": 27,
   "metadata": {},
   "outputs": [],
   "source": [
    "## Calculating tha average CGPA and total marks of the 3 students\n",
    "agg_result=collectiona.aggregate(\n",
    "[\n",
    "    {\n",
    "        \"$group\":\n",
    "        {\n",
    "            \"_id\":\"$Name\",\n",
    "            \"average\":{\"$avg\":\"$SGPA\"},\n",
    "            \"totalmarks\":{\"$sum\":\"$Totalmarks\"}\n",
    "        }\n",
    "    }\n",
    "])"
   ]
  },
  {
   "cell_type": "code",
   "execution_count": 28,
   "metadata": {},
   "outputs": [
    {
     "name": "stdout",
     "output_type": "stream",
     "text": [
      "{'_id': 'Ankit Yadav', 'average': 10.0, 'totalmarks': 1472}\n",
      "{'_id': 'Aakriti Singh', 'average': 9.44, 'totalmarks': 1316}\n",
      "{'_id': 'ANURAG SHUKLA', 'average': 8.896666666666667, 'totalmarks': 1292}\n"
     ]
    }
   ],
   "source": [
    "for i in agg_result:\n",
    "    print(i)"
   ]
  },
  {
   "cell_type": "code",
   "execution_count": 30,
   "metadata": {},
   "outputs": [
    {
     "name": "stdout",
     "output_type": "stream",
     "text": [
      "{'_id': ObjectId('5fda4807ee5150c758cfe3b1'), 'EnrollmentNo': 190029012004801, 'SGPA': 9.44}\n",
      "{'_id': ObjectId('5fda4807ee5150c758cfe3b2'), 'EnrollmentNo': 190029012004815, 'SGPA': 10}\n",
      "{'_id': ObjectId('5fda4807ee5150c758cfe3b3'), 'EnrollmentNo': 190029012004819, 'SGPA': 9}\n",
      "{'_id': ObjectId('5fda5110096b7aed1e8fd66b'), 'EnrollmentNo': 190029012004801, 'SGPA': 9.44}\n",
      "{'_id': ObjectId('5fda5110096b7aed1e8fd66c'), 'EnrollmentNo': 190029012004815, 'SGPA': 10}\n",
      "{'_id': ObjectId('5fda5110096b7aed1e8fd66d'), 'EnrollmentNo': 190029012004819, 'SGPA': 8.69}\n",
      "{'_id': ObjectId('5fda58d0096b7aed1e8fd672'), 'EnrollmentNo': 190029012004801, 'SGPA': 9.44}\n",
      "{'_id': ObjectId('5fda58d0096b7aed1e8fd673'), 'EnrollmentNo': 190029012004815, 'SGPA': 10}\n",
      "{'_id': ObjectId('5fda58d0096b7aed1e8fd674'), 'EnrollmentNo': 190029012004819, 'SGPA': 9}\n"
     ]
    }
   ],
   "source": [
    "## $project(write anything in program print all the things serial wise)\n",
    "for row in collectiona.aggregate([{\"$project\":{\"EnrollmentNo\":1,\"SGPA\":1}}]):\n",
    "    print(row)"
   ]
  },
  {
   "cell_type": "code",
   "execution_count": null,
   "metadata": {},
   "outputs": [],
   "source": []
  }
 ],
 "metadata": {
  "kernelspec": {
   "display_name": "Python 3",
   "language": "python",
   "name": "python3"
  },
  "language_info": {
   "codemirror_mode": {
    "name": "ipython",
    "version": 3
   },
   "file_extension": ".py",
   "mimetype": "text/x-python",
   "name": "python",
   "nbconvert_exporter": "python",
   "pygments_lexer": "ipython3",
   "version": "3.8.3"
  }
 },
 "nbformat": 4,
 "nbformat_minor": 4
}
