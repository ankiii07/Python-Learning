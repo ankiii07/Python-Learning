{
 "cells": [
  {
   "cell_type": "code",
   "execution_count": 1,
   "metadata": {},
   "outputs": [],
   "source": [
    "import pymongo\n",
    "\n",
    "client=pymongo.MongoClient('mongodb://127.0.0.1:27017/')\n",
    "\n",
    "mydb=client['Teamco']\n",
    "teaminfo=mydb.teaminformation"
   ]
  },
  {
   "cell_type": "code",
   "execution_count": 2,
   "metadata": {},
   "outputs": [
    {
     "data": {
      "text/plain": [
       "<pymongo.results.InsertOneResult at 0x211beceb080>"
      ]
     },
     "execution_count": 2,
     "metadata": {},
     "output_type": "execute_result"
    }
   ],
   "source": [
    "record={\n",
    "        'firstname':'Ankit',\n",
    "        'lastname':'Yadav',\n",
    "        'field':'Datascience',\n",
    "        'age':19\n",
    "        }\n",
    "teaminfo.insert_one(record)"
   ]
  },
  {
   "cell_type": "code",
   "execution_count": 3,
   "metadata": {
    "scrolled": true
   },
   "outputs": [],
   "source": [
    "import pymongo\n",
    "\n",
    "client=pymongo.MongoClient('mongodb://127.0.0.1:27017/')\n",
    "\n",
    "mydb=client['Teamco']\n",
    "teamainfo=mydb.teaminformation"
   ]
  },
  {
   "cell_type": "code",
   "execution_count": 4,
   "metadata": {},
   "outputs": [
    {
     "data": {
      "text/plain": [
       "<pymongo.results.InsertManyResult at 0x211bea74800>"
      ]
     },
     "execution_count": 4,
     "metadata": {},
     "output_type": "execute_result"
    }
   ],
   "source": [
    "records=[{\n",
    "        \n",
    "        'firstname':'ankit',\n",
    "        'lastname':'yadav',\n",
    "        'field':'datascience',\n",
    "        'age':19,\n",
    "        'mobilenumber':8545859279,\n",
    "        'libraryid':'1923co1041',\n",
    "        'universityrollno':1900290120016,\n",
    "        'fathersname':'Ashokkumaryadav'\n",
    "        \n",
    "    },\n",
    "        \n",
    "    {\n",
    "        'firstname':'anurag',\n",
    "        'lastname':'shukla',\n",
    "        'field':'datascience',\n",
    "        'age':21,\n",
    "         'mobilenumber':8957981395,\n",
    "        'libraryid':'1923co1063',\n",
    "         'universityrollno':1900290120020,\n",
    "        'fathersname':'suneetkumarshukla',\n",
    "        \n",
    "    },\n",
    "    {\n",
    "        'firstname':'chetna',\n",
    "        'lastname':'solanki',\n",
    "        'field':'datascience',\n",
    "        'age':19, \n",
    "        'mobilenumber':8006265599,\n",
    "        'libraryid':'1923co1008',\n",
    "         'universityrollno':1900290120032,\n",
    "        'fathersname':'Yashpalsinghsolanki',\n",
    "        \n",
    "     },\n",
    "    {\n",
    "        'firstname':'aakriti',\n",
    "        'lastname':'singh',\n",
    "        'field':'pythonwebdevelopment',\n",
    "        'age':19,\n",
    "         'mobilenumber':9956831445,\n",
    "        'libraryid':'1923co1061',\n",
    "         'universityrollno':1900290120002,\n",
    "        'fathersname':'Ramsanehi',\n",
    "        \n",
    "    },\n",
    "    {\n",
    "         'firstname':'ayush',\n",
    "         'lastname':'srivasatava',\n",
    "         'field':'android',\n",
    "         'age':19, \n",
    "        'mobilenumber':6387102221,\n",
    "        'libraryid':'1923co1040',\n",
    "         'universityrollno':1900290120029,\n",
    "        'fathersname':'Anilkumarsrivastava',}\n",
    "]\n",
    "teamainfo.insert_many(records)"
   ]
  },
  {
   "cell_type": "markdown",
   "metadata": {},
   "source": [
    "# OPERATIONS"
   ]
  },
  {
   "cell_type": "code",
   "execution_count": 5,
   "metadata": {},
   "outputs": [
    {
     "name": "stdout",
     "output_type": "stream",
     "text": [
      "{'_id': ObjectId('5fd7b029d0ab3bdc6a1463fc'), 'branch': 'computer science', 'subfield': [{'building': 'e block'}]}\n",
      "{'_id': ObjectId('5fd7b029d0ab3bdc6a1463fd'), 'firstname': 'anurag', 'lastname': 'shukla', 'field': 'datascience', 'age': 21, 'mobilenumber': 8957981395, 'libraryid': '1923co1063', 'universityrollno': 1900290120020, 'fathersname': 'suneetkumarshukla', 'branch': 'computer science', 'lastmodified': datetime.datetime(2020, 12, 14, 19, 43, 15, 495000), 'location': 'muradnagar'}\n",
      "{'_id': ObjectId('5fd7b029d0ab3bdc6a1463fe'), 'firstname': 'chetna', 'lastname': 'solanki', 'field': 'datascience', 'age': 19, 'mobilenumber': 8006265599, 'libraryid': '1923co1008', 'universityrollno': 1900290120032, 'fathersname': 'Yashpalsinghsolanki', 'branch': 'computer science', 'lastmodified': datetime.datetime(2020, 12, 14, 19, 43, 15, 495000), 'location': 'muradnagar'}\n",
      "{'_id': ObjectId('5fd7b029d0ab3bdc6a1463ff'), 'firstname': 'aakriti', 'lastname': 'singh', 'field': 'datascience', 'age': 19, 'mobilenumber': 9956831445, 'libraryid': '1923co1061', 'universityrollno': 1900290120002, 'fathersname': 'Ramsanehi', 'lastmodified': datetime.datetime(2020, 12, 14, 19, 43, 15, 495000), 'status': 'datascience', 'location': 'muradnagar', 'branch': 'computer science'}\n",
      "{'_id': ObjectId('5fd7b029d0ab3bdc6a146400'), 'firstname': 'ayush', 'lastname': 'srivasatava', 'field': 'android', 'age': 19, 'mobilenumber': 6387102221, 'libraryid': '1923co1040', 'universityrollno': 1900290120029, 'fathersname': 'Anilkumarsrivastava', 'branch': 'computer science', 'lastmodified': datetime.datetime(2020, 12, 14, 19, 43, 15, 495000), 'location': 'muradnagar'}\n",
      "{'_id': ObjectId('5fda3d6890f1577bf0462c93'), 'firstname': 'Ankit', 'lastname': 'Yadav', 'field': 'Datascience', 'age': 19}\n",
      "{'_id': ObjectId('5fda3d6d90f1577bf0462c95'), 'firstname': 'ankit', 'lastname': 'yadav', 'field': 'datascience', 'age': 19, 'mobilenumber': 8545859279, 'libraryid': '1923co1041', 'universityrollno': 1900290120016, 'fathersname': 'Ashokkumaryadav'}\n",
      "{'_id': ObjectId('5fda3d6d90f1577bf0462c96'), 'firstname': 'anurag', 'lastname': 'shukla', 'field': 'datascience', 'age': 21, 'mobilenumber': 8957981395, 'libraryid': '1923co1063', 'universityrollno': 1900290120020, 'fathersname': 'suneetkumarshukla'}\n",
      "{'_id': ObjectId('5fda3d6d90f1577bf0462c97'), 'firstname': 'chetna', 'lastname': 'solanki', 'field': 'datascience', 'age': 19, 'mobilenumber': 8006265599, 'libraryid': '1923co1008', 'universityrollno': 1900290120032, 'fathersname': 'Yashpalsinghsolanki'}\n",
      "{'_id': ObjectId('5fda3d6d90f1577bf0462c98'), 'firstname': 'aakriti', 'lastname': 'singh', 'field': 'pythonwebdevelopment', 'age': 19, 'mobilenumber': 9956831445, 'libraryid': '1923co1061', 'universityrollno': 1900290120002, 'fathersname': 'Ramsanehi'}\n",
      "{'_id': ObjectId('5fda3d6d90f1577bf0462c99'), 'firstname': 'ayush', 'lastname': 'srivasatava', 'field': 'android', 'age': 19, 'mobilenumber': 6387102221, 'libraryid': '1923co1040', 'universityrollno': 1900290120029, 'fathersname': 'Anilkumarsrivastava'}\n"
     ]
    }
   ],
   "source": [
    "## select * from teaminformation\n",
    "for records in teamainfo.find({}):\n",
    "    print(records)"
   ]
  },
  {
   "cell_type": "code",
   "execution_count": 6,
   "metadata": {},
   "outputs": [
    {
     "name": "stdout",
     "output_type": "stream",
     "text": [
      "{'_id': ObjectId('5fd7b029d0ab3bdc6a1463fd'), 'firstname': 'anurag', 'lastname': 'shukla', 'field': 'datascience', 'age': 21, 'mobilenumber': 8957981395, 'libraryid': '1923co1063', 'universityrollno': 1900290120020, 'fathersname': 'suneetkumarshukla', 'branch': 'computer science', 'lastmodified': datetime.datetime(2020, 12, 14, 19, 43, 15, 495000), 'location': 'muradnagar'}\n",
      "{'_id': ObjectId('5fda3d6d90f1577bf0462c96'), 'firstname': 'anurag', 'lastname': 'shukla', 'field': 'datascience', 'age': 21, 'mobilenumber': 8957981395, 'libraryid': '1923co1063', 'universityrollno': 1900290120020, 'fathersname': 'suneetkumarshukla'}\n"
     ]
    }
   ],
   "source": [
    "## query the jason documents basd on equality conditions\n",
    "#select * from teaminformation were firstname=anurag\n",
    "for records in teamainfo.find({'firstname':'anurag'}):\n",
    "    print(records)"
   ]
  },
  {
   "cell_type": "code",
   "execution_count": 7,
   "metadata": {},
   "outputs": [
    {
     "name": "stdout",
     "output_type": "stream",
     "text": [
      "{'_id': ObjectId('5fd7b029d0ab3bdc6a1463fd'), 'firstname': 'anurag', 'lastname': 'shukla', 'field': 'datascience', 'age': 21, 'mobilenumber': 8957981395, 'libraryid': '1923co1063', 'universityrollno': 1900290120020, 'fathersname': 'suneetkumarshukla', 'branch': 'computer science', 'lastmodified': datetime.datetime(2020, 12, 14, 19, 43, 15, 495000), 'location': 'muradnagar'}\n",
      "{'_id': ObjectId('5fd7b029d0ab3bdc6a1463fe'), 'firstname': 'chetna', 'lastname': 'solanki', 'field': 'datascience', 'age': 19, 'mobilenumber': 8006265599, 'libraryid': '1923co1008', 'universityrollno': 1900290120032, 'fathersname': 'Yashpalsinghsolanki', 'branch': 'computer science', 'lastmodified': datetime.datetime(2020, 12, 14, 19, 43, 15, 495000), 'location': 'muradnagar'}\n",
      "{'_id': ObjectId('5fd7b029d0ab3bdc6a1463ff'), 'firstname': 'aakriti', 'lastname': 'singh', 'field': 'datascience', 'age': 19, 'mobilenumber': 9956831445, 'libraryid': '1923co1061', 'universityrollno': 1900290120002, 'fathersname': 'Ramsanehi', 'lastmodified': datetime.datetime(2020, 12, 14, 19, 43, 15, 495000), 'status': 'datascience', 'location': 'muradnagar', 'branch': 'computer science'}\n",
      "{'_id': ObjectId('5fd7b029d0ab3bdc6a146400'), 'firstname': 'ayush', 'lastname': 'srivasatava', 'field': 'android', 'age': 19, 'mobilenumber': 6387102221, 'libraryid': '1923co1040', 'universityrollno': 1900290120029, 'fathersname': 'Anilkumarsrivastava', 'branch': 'computer science', 'lastmodified': datetime.datetime(2020, 12, 14, 19, 43, 15, 495000), 'location': 'muradnagar'}\n",
      "{'_id': ObjectId('5fda3d6d90f1577bf0462c95'), 'firstname': 'ankit', 'lastname': 'yadav', 'field': 'datascience', 'age': 19, 'mobilenumber': 8545859279, 'libraryid': '1923co1041', 'universityrollno': 1900290120016, 'fathersname': 'Ashokkumaryadav'}\n",
      "{'_id': ObjectId('5fda3d6d90f1577bf0462c96'), 'firstname': 'anurag', 'lastname': 'shukla', 'field': 'datascience', 'age': 21, 'mobilenumber': 8957981395, 'libraryid': '1923co1063', 'universityrollno': 1900290120020, 'fathersname': 'suneetkumarshukla'}\n",
      "{'_id': ObjectId('5fda3d6d90f1577bf0462c97'), 'firstname': 'chetna', 'lastname': 'solanki', 'field': 'datascience', 'age': 19, 'mobilenumber': 8006265599, 'libraryid': '1923co1008', 'universityrollno': 1900290120032, 'fathersname': 'Yashpalsinghsolanki'}\n",
      "{'_id': ObjectId('5fda3d6d90f1577bf0462c99'), 'firstname': 'ayush', 'lastname': 'srivasatava', 'field': 'android', 'age': 19, 'mobilenumber': 6387102221, 'libraryid': '1923co1040', 'universityrollno': 1900290120029, 'fathersname': 'Anilkumarsrivastava'}\n"
     ]
    }
   ],
   "source": [
    "##query documents using query operators($in, $lt, $gt, )\n",
    "for records in teamainfo.find({'field':{'$in':['datascience','android']}}):\n",
    "    print(records)"
   ]
  },
  {
   "cell_type": "code",
   "execution_count": 22,
   "metadata": {},
   "outputs": [
    {
     "name": "stdout",
     "output_type": "stream",
     "text": [
      "{'_id': ObjectId('5fd7b029d0ab3bdc6a1463fd'), 'firstname': 'anurag', 'lastname': 'shukla', 'field': 'datascience', 'age': 21, 'mobilenumber': 8957981395, 'libraryid': '1923co1063', 'universityrollno': 1900290120020, 'fathersname': 'suneetkumarshukla'}\n"
     ]
    }
   ],
   "source": [
    "## query operatos and and operator\n",
    "for records in teamainfo.find({'field':'datascience','age':21}):\n",
    "    print(records)"
   ]
  },
  {
   "cell_type": "code",
   "execution_count": 23,
   "metadata": {},
   "outputs": [
    {
     "name": "stdout",
     "output_type": "stream",
     "text": [
      "{'_id': ObjectId('5fd7b029d0ab3bdc6a1463fc'), 'firstname': 'ankit', 'lastname': 'yadav', 'field': 'datascience', 'age': 19, 'mobilenumber': 8545859279, 'libraryid': '1923co1041', 'universityrollno': 1900290120016, 'fathersname': 'Ashokkumaryadav'}\n",
      "{'_id': ObjectId('5fd7b029d0ab3bdc6a1463fe'), 'firstname': 'chetna', 'lastname': 'solanki', 'field': 'datascience', 'age': 19, 'mobilenumber': 8006265599, 'libraryid': '1923co1008', 'universityrollno': 1900290120032, 'fathersname': 'Yashpalsinghsolanki'}\n",
      "{'_id': ObjectId('5fd7b029d0ab3bdc6a1463ff'), 'firstname': 'aakriti', 'lastname': 'singh', 'field': 'pythonwebdevelopment', 'age': 19, 'mobilenumber': 9956831445, 'libraryid': '1923co1061', 'universityrollno': 1900290120002, 'fathersname': 'Ramsanehi'}\n",
      "{'_id': ObjectId('5fd7b029d0ab3bdc6a146400'), 'firstname': 'ayush', 'lastname': 'srivasatava', 'field': 'android', 'age': 19, 'mobilenumber': 6387102221, 'libraryid': '1923co1040', 'universityrollno': 1900290120029, 'fathersname': 'Anilkumarsrivastava'}\n"
     ]
    }
   ],
   "source": [
    "##or opereators $or $and\n",
    "for records in teamainfo.find({'$or':[{'field':'android'},{'age':19}]}):\n",
    "    print(records)"
   ]
  },
  {
   "cell_type": "code",
   "execution_count": 8,
   "metadata": {},
   "outputs": [
    {
     "data": {
      "text/plain": [
       "<pymongo.results.UpdateResult at 0x211bf0ac700>"
      ]
     },
     "execution_count": 8,
     "metadata": {},
     "output_type": "execute_result"
    }
   ],
   "source": [
    "# updating json documents\n",
    "#pymongo.collection.update_one\n",
    "teamainfo.update_one(\n",
    "    {\n",
    "        \"firstname\":\"aakriti\"\n",
    "    }, \n",
    "    {\"$set\":{\"field\":\"pythonwebdevelopment\",\"field\":\"datascience\",\"location\":\"lucknow\"},\n",
    "    \"$currentDate\":{\"lastmodified\":True}}\n",
    "    )"
   ]
  },
  {
   "cell_type": "code",
   "execution_count": 31,
   "metadata": {},
   "outputs": [
    {
     "data": {
      "text/plain": [
       "<pymongo.results.UpdateResult at 0x22d7fb677c0>"
      ]
     },
     "execution_count": 31,
     "metadata": {},
     "output_type": "execute_result"
    }
   ],
   "source": [
    "#updating json documents\n",
    "#pymongo.collection.update_many\n",
    "teamainfo.update_many(\n",
    "    {\n",
    "        \"age\":{\"$lt\":25}}, \n",
    "    {\"$set\":{\"branch\":\"computer science\",\"location\":\"muradnagar\"},\n",
    "    \"$currentDate\":{\"lastmodified\":True}}\n",
    ")"
   ]
  },
  {
   "cell_type": "code",
   "execution_count": 34,
   "metadata": {},
   "outputs": [
    {
     "data": {
      "text/plain": [
       "<pymongo.results.UpdateResult at 0x22d7fb596c0>"
      ]
     },
     "execution_count": 34,
     "metadata": {},
     "output_type": "execute_result"
    }
   ],
   "source": [
    "#replace anything in database\n",
    "#replace.collection.replace_one\n",
    "teamainfo.replace_one(\n",
    "{\n",
    "    \"branch\":\"computer science\"},\n",
    "    {\n",
    "         \"branch\":\"computer science\",\n",
    "        \"subfield\": [\n",
    "            {\n",
    "                \"building\":\"e block\"\n",
    "            }\n",
    "        ]\n",
    "    }\n",
    ")"
   ]
  },
  {
   "cell_type": "code",
   "execution_count": null,
   "metadata": {},
   "outputs": [],
   "source": []
  }
 ],
 "metadata": {
  "kernelspec": {
   "display_name": "Python 3",
   "language": "python",
   "name": "python3"
  },
  "language_info": {
   "codemirror_mode": {
    "name": "ipython",
    "version": 3
   },
   "file_extension": ".py",
   "mimetype": "text/x-python",
   "name": "python",
   "nbconvert_exporter": "python",
   "pygments_lexer": "ipython3",
   "version": "3.8.3"
  }
 },
 "nbformat": 4,
 "nbformat_minor": 4
}
