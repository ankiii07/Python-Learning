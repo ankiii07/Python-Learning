{
 "cells": [
  {
   "cell_type": "markdown",
   "metadata": {},
   "source": [
    "# ARRAY"
   ]
  },
  {
   "cell_type": "code",
   "execution_count": null,
   "metadata": {},
   "outputs": [],
   "source": [
    "#  typecode     c type       pythontype       min size(bytes)\n",
    "#    b        signed char      int              1\n",
    "#    B       unsigned char     int              1\n",
    "#    u        Py_UNICODE    unicode char        2\n",
    "#    h       signed short      int              2\n",
    "#    H       unsigned short    int              2\n",
    "#    i         signed int      int              2\n",
    "#    I       unsigned int      int              2\n",
    "#    l        signed long      int              4 \n",
    "#    L       unsigned long     int              4\n",
    "#    f          float         float             4\n",
    "#    d         double         float             4\n"
   ]
  },
  {
   "cell_type": "code",
   "execution_count": 2,
   "metadata": {},
   "outputs": [
    {
     "name": "stdout",
     "output_type": "stream",
     "text": [
      "array('i', [3, 5, 7, 8, 2, 4, 1, 0])\n"
     ]
    }
   ],
   "source": [
    "import array as arr\n",
    "a = arr.array('i',[3,5,7,8,2,4,1,0])\n",
    "print(a)"
   ]
  },
  {
   "cell_type": "code",
   "execution_count": 3,
   "metadata": {},
   "outputs": [
    {
     "name": "stdout",
     "output_type": "stream",
     "text": [
      "(2045000713968, 8)\n"
     ]
    }
   ],
   "source": [
    "import array as arr\n",
    "a = arr.array('i',[3,5,7,8,2,4,1,0])\n",
    "print(a.buffer_info())\n",
    "#first one is address and second one is value"
   ]
  },
  {
   "cell_type": "code",
   "execution_count": 4,
   "metadata": {},
   "outputs": [
    {
     "name": "stdout",
     "output_type": "stream",
     "text": [
      "i\n"
     ]
    }
   ],
   "source": [
    "import array as arr\n",
    "a = arr.array('i',[3,5,7,8,2,4,1,0])\n",
    "print(a.typecode)\n",
    "#data type used"
   ]
  },
  {
   "cell_type": "code",
   "execution_count": 8,
   "metadata": {},
   "outputs": [
    {
     "name": "stdout",
     "output_type": "stream",
     "text": [
      "array('i', [0, 1, 4, 2, 7, 5, 10])\n"
     ]
    }
   ],
   "source": [
    "import array as arr\n",
    "a = arr.array('i',[3,5,7,8,2,4,1,0])\n",
    "a.remove(8)\n",
    "a.reverse()\n",
    "a.append(10)\n",
    "a.remove(3)\n",
    "print(a)\n",
    "#reverse the array"
   ]
  },
  {
   "cell_type": "code",
   "execution_count": 6,
   "metadata": {},
   "outputs": [
    {
     "name": "stdout",
     "output_type": "stream",
     "text": [
      "3\n"
     ]
    }
   ],
   "source": [
    "import array as arr\n",
    "a = arr.array('i',[3,5,7,8,2,4,1,0])\n",
    "print(a[0])"
   ]
  },
  {
   "cell_type": "code",
   "execution_count": 14,
   "metadata": {},
   "outputs": [
    {
     "name": "stdout",
     "output_type": "stream",
     "text": [
      "3 5 7 8 2 4 1 0 "
     ]
    }
   ],
   "source": [
    "import array as arr\n",
    "a = arr.array('i',[3,5,7,8,2,4,1,0])\n",
    "for i in range(8):\n",
    "    print(a[i],end=\" \")\n",
    "    "
   ]
  },
  {
   "cell_type": "code",
   "execution_count": 17,
   "metadata": {},
   "outputs": [
    {
     "name": "stdout",
     "output_type": "stream",
     "text": [
      "r e i d b "
     ]
    }
   ],
   "source": [
    "#in character\n",
    "import array as arr\n",
    "a = arr.array('u',['r','e','i','d','b'])\n",
    "for i in range(5):\n",
    "    print(a[i],end=\" \")"
   ]
  },
  {
   "cell_type": "code",
   "execution_count": 19,
   "metadata": {},
   "outputs": [
    {
     "name": "stdout",
     "output_type": "stream",
     "text": [
      "3 5 7 8 2 4 1 0 "
     ]
    }
   ],
   "source": [
    "#to copy array in new array with same data type\n",
    "import array as arr\n",
    "a = arr.array('i',[3,5,7,8,2,4,1,0])\n",
    "newA = arr.array(a.typecode,(j for j in a))\n",
    "for i in range(8):\n",
    "    print(newA[i],end=\" \")"
   ]
  },
  {
   "cell_type": "code",
   "execution_count": 20,
   "metadata": {},
   "outputs": [
    {
     "name": "stdout",
     "output_type": "stream",
     "text": [
      "9 25 49 64 4 16 1 0 "
     ]
    }
   ],
   "source": [
    "#to copy array in new array with same data type with square with number\n",
    "import array as arr\n",
    "a = arr.array('i',[3,5,7,8,2,4,1,0])\n",
    "newA = arr.array(a.typecode,(j*j for j in a))\n",
    "for i in range(8):\n",
    "    print(newA[i],end=\" \")"
   ]
  },
  {
   "cell_type": "code",
   "execution_count": 21,
   "metadata": {},
   "outputs": [
    {
     "name": "stdout",
     "output_type": "stream",
     "text": [
      "9 25 49 64 4 16 1 0 "
     ]
    }
   ],
   "source": [
    "# using while loop\n",
    "import array as arr\n",
    "a = arr.array('i',[3,5,7,8,2,4,1,0])\n",
    "newA = arr.array(a.typecode,(j*j for j in a))\n",
    "i=0\n",
    "while i<len(newA):\n",
    "    print(newA[i],end=\" \")\n",
    "    i=i+1"
   ]
  },
  {
   "cell_type": "code",
   "execution_count": 3,
   "metadata": {},
   "outputs": [
    {
     "name": "stdout",
     "output_type": "stream",
     "text": [
      "enter the length of the array : 4\n",
      "enter the value : 8\n",
      "enter the value : 3\n",
      "enter the value : 6\n",
      "enter the value : 1\n",
      "array('i', [8, 3, 6, 1]) "
     ]
    }
   ],
   "source": [
    "#user input and insert value in array\n",
    "import array as arr\n",
    "a = arr.array('i',[])\n",
    "n = int(input(\"enter the length of the array : \"))\n",
    "for i in range(n):\n",
    "    x = int(input(\"enter the value : \"))\n",
    "    a.append(x)\n",
    "print(a,end=\" \")"
   ]
  },
  {
   "cell_type": "code",
   "execution_count": 5,
   "metadata": {},
   "outputs": [
    {
     "name": "stdout",
     "output_type": "stream",
     "text": [
      "enter the length of the array : 6\n",
      "enter the value : 45\n",
      "enter the value : 89\n",
      "enter the value : 91\n",
      "enter the value : 52\n",
      "enter the value : 63\n",
      "enter the value : 37\n",
      "array('i', [45, 89, 91, 52, 63, 37]) \n",
      "\n",
      "enter the value to be searched : 63\n",
      "63  value found\n"
     ]
    }
   ],
   "source": [
    "#searching of the element in array linear search\n",
    "import array as arr\n",
    "a = arr.array('i',[])\n",
    "n = int(input(\"enter the length of the array : \"))\n",
    "for i in range(n):\n",
    "    x = int(input(\"enter the value : \"))\n",
    "    a.append(x)\n",
    "print(a,end=\" \")\n",
    "print(\"\\n\")\n",
    "\n",
    "y = int(input(\"enter the value to be searched : \"))\n",
    "for i in range(n):\n",
    "    if(y==a[i]):\n",
    "        print(y,\" value found\")\n",
    "        break\n",
    "else:\n",
    "    print(\"not found\")"
   ]
  },
  {
   "cell_type": "markdown",
   "metadata": {},
   "source": [
    "# Array using Numpy"
   ]
  },
  {
   "cell_type": "code",
   "execution_count": 6,
   "metadata": {},
   "outputs": [
    {
     "name": "stdout",
     "output_type": "stream",
     "text": [
      "[1 6 4 7 9 8 3]\n"
     ]
    }
   ],
   "source": [
    "# using numpy  array\n",
    "import numpy as np\n",
    "a = np.array([1,6,4,7,9,8,3])\n",
    "print(a)"
   ]
  },
  {
   "cell_type": "code",
   "execution_count": 7,
   "metadata": {},
   "outputs": [
    {
     "name": "stdout",
     "output_type": "stream",
     "text": [
      "int32\n"
     ]
    }
   ],
   "source": [
    "import numpy as np\n",
    "a = np.array([1,6,4,7,9,8,3])\n",
    "print(a.dtype)"
   ]
  },
  {
   "cell_type": "code",
   "execution_count": 11,
   "metadata": {},
   "outputs": [
    {
     "name": "stdout",
     "output_type": "stream",
     "text": [
      "float64\n",
      "[1.  6.4 4.  7.9 9.  8.  3. ]\n"
     ]
    }
   ],
   "source": [
    "import numpy as np\n",
    "a = np.array([1,6.4,4,7.9,9,8,3])\n",
    "print(a.dtype)\n",
    "print(a)\n",
    "#every value converted into float"
   ]
  },
  {
   "cell_type": "code",
   "execution_count": 16,
   "metadata": {},
   "outputs": [
    {
     "name": "stdout",
     "output_type": "stream",
     "text": [
      "float64\n",
      "[ 0.          0.20408163  0.40816327  0.6122449   0.81632653  1.02040816\n",
      "  1.2244898   1.42857143  1.63265306  1.83673469  2.04081633  2.24489796\n",
      "  2.44897959  2.65306122  2.85714286  3.06122449  3.26530612  3.46938776\n",
      "  3.67346939  3.87755102  4.08163265  4.28571429  4.48979592  4.69387755\n",
      "  4.89795918  5.10204082  5.30612245  5.51020408  5.71428571  5.91836735\n",
      "  6.12244898  6.32653061  6.53061224  6.73469388  6.93877551  7.14285714\n",
      "  7.34693878  7.55102041  7.75510204  7.95918367  8.16326531  8.36734694\n",
      "  8.57142857  8.7755102   8.97959184  9.18367347  9.3877551   9.59183673\n",
      "  9.79591837 10.        ]\n"
     ]
    }
   ],
   "source": [
    "# using numpy linspace\n",
    "import numpy as np\n",
    "a = np.linspace(0,10)\n",
    "print(a.dtype)\n",
    "print(a)\n",
    "#linspace take three input 1. start 2. stop  3.third one is break the digit\n",
    "#in that number different parts"
   ]
  },
  {
   "cell_type": "code",
   "execution_count": 17,
   "metadata": {},
   "outputs": [
    {
     "name": "stdout",
     "output_type": "stream",
     "text": [
      "int32\n",
      "[0 1 2 3 4 5 6 7 8 9]\n"
     ]
    }
   ],
   "source": [
    "# using numpy arange()\n",
    "import numpy as np\n",
    "a = np.arange(0,10)\n",
    "print(a.dtype)\n",
    "print(a)\n",
    "#linspace take three input 1. start 2. stop  3.third one is step"
   ]
  },
  {
   "cell_type": "code",
   "execution_count": 19,
   "metadata": {},
   "outputs": [
    {
     "name": "stdout",
     "output_type": "stream",
     "text": [
      "float64\n",
      "[1.00000000e+00 3.16227766e+12 1.00000000e+25 3.16227766e+37\n",
      " 1.00000000e+50]\n",
      "1.00\n",
      "100000000000000007629769841091887003294964970946560.00\n"
     ]
    }
   ],
   "source": [
    "# using numpy logspacee()\n",
    "import numpy as np\n",
    "a = np.logspace(0,50,5)\n",
    "print(a.dtype)\n",
    "print(a)\n",
    "print('%.2f' %a[0])\n",
    "print('%.2f' %a[4])\n",
    "#linspace take three input 1. start 2. stop  3.third one is break range in 5 parts into log format"
   ]
  },
  {
   "cell_type": "code",
   "execution_count": 23,
   "metadata": {},
   "outputs": [
    {
     "name": "stdout",
     "output_type": "stream",
     "text": [
      "int32\n",
      "[0 0 0 0 0]\n"
     ]
    }
   ],
   "source": [
    "# using numpy zeros()\n",
    "import numpy as np\n",
    "a = np.zeros(5,dtype='int')\n",
    "print(a.dtype)\n",
    "print(a)"
   ]
  },
  {
   "cell_type": "code",
   "execution_count": 25,
   "metadata": {},
   "outputs": [
    {
     "name": "stdout",
     "output_type": "stream",
     "text": [
      "int32\n",
      "[1 1 1 1 1 1 1 1 1 1]\n"
     ]
    }
   ],
   "source": [
    "# using numpy ones()\n",
    "import numpy as np\n",
    "a = np.ones(10,dtype='int')\n",
    "print(a.dtype)\n",
    "print(a)"
   ]
  },
  {
   "cell_type": "code",
   "execution_count": 32,
   "metadata": {},
   "outputs": [
    {
     "name": "stdout",
     "output_type": "stream",
     "text": [
      "length of array : 6\n",
      "value : 56\n",
      "value : 89\n",
      "value : 23\n",
      "value : 49\n",
      "value : 93\n",
      "value : 37\n",
      "array('i', [56, 89, 23, 49, 93, 37]) \n",
      "\n",
      "array('i', [61, 94, 28, 54, 98, 42]) "
     ]
    }
   ],
   "source": [
    "import numpy as np\n",
    "import array as arr\n",
    "a=arr.array('i',[])\n",
    "n = int(input(\"length of array : \"))\n",
    "for i in range(n):\n",
    "    x = int(input(\"value : \"))\n",
    "    a.append(x)\n",
    "print(a,end=\" \")\n",
    "print(\"\\n\")\n",
    "for i in range(n):\n",
    "    a[i]=a[i]+5\n",
    "print(a,end=\" \")"
   ]
  },
  {
   "cell_type": "code",
   "execution_count": 33,
   "metadata": {},
   "outputs": [
    {
     "name": "stdout",
     "output_type": "stream",
     "text": [
      "[ 6 11  9 12 14 13  8]\n"
     ]
    }
   ],
   "source": [
    "import numpy as np\n",
    "a = np.array([1,6,4,7,9,8,3])\n",
    "a= a+5\n",
    "print(a)\n"
   ]
  },
  {
   "cell_type": "code",
   "execution_count": 34,
   "metadata": {},
   "outputs": [
    {
     "name": "stdout",
     "output_type": "stream",
     "text": [
      "[ 67 128  89 153 187 104  44]\n"
     ]
    }
   ],
   "source": [
    "import numpy as np\n",
    "a = np.array([16,66,40,79,94,86,13])\n",
    "b =  np.array([51,62,49,74,93,18,31])\n",
    "c= a+b\n",
    "print(c)"
   ]
  },
  {
   "cell_type": "code",
   "execution_count": null,
   "metadata": {},
   "outputs": [],
   "source": []
  }
 ],
 "metadata": {
  "kernelspec": {
   "display_name": "Python 3",
   "language": "python",
   "name": "python3"
  },
  "language_info": {
   "codemirror_mode": {
    "name": "ipython",
    "version": 3
   },
   "file_extension": ".py",
   "mimetype": "text/x-python",
   "name": "python",
   "nbconvert_exporter": "python",
   "pygments_lexer": "ipython3",
   "version": "3.8.3"
  }
 },
 "nbformat": 4,
 "nbformat_minor": 4
}
