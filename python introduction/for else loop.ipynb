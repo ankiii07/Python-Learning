{
 "cells": [
  {
   "cell_type": "code",
   "execution_count": 3,
   "metadata": {},
   "outputs": [
    {
     "name": "stdout",
     "output_type": "stream",
     "text": [
      "45\n"
     ]
    }
   ],
   "source": [
    "nums = [12,23,56,78,45,35,90,65,70,18,28]\n",
    "for i in nums:\n",
    "    if i%5==0:\n",
    "        print(i)\n",
    "        break\n",
    "# this one didnot check the number after first number \n",
    "#that is divisible by five in the list    "
   ]
  },
  {
   "cell_type": "code",
   "execution_count": 4,
   "metadata": {},
   "outputs": [
    {
     "name": "stdout",
     "output_type": "stream",
     "text": [
      "not found\n",
      "not found\n",
      "not found\n",
      "not found\n",
      "not found\n",
      "not found\n",
      "not found\n",
      "not found\n",
      "not found\n",
      "not found\n",
      "not found\n"
     ]
    }
   ],
   "source": [
    "nums = [12,23,56,78,49,31,98,64,73,18,28]\n",
    "for i in nums:\n",
    "    if i%5==0:\n",
    "        print(i)\n",
    "        break\n",
    "    else:\n",
    "        print(\"not found\")\n",
    "#in this else part is running every iteration"
   ]
  },
  {
   "cell_type": "code",
   "execution_count": 5,
   "metadata": {},
   "outputs": [
    {
     "name": "stdout",
     "output_type": "stream",
     "text": [
      "not found\n"
     ]
    }
   ],
   "source": [
    "nums = [12,23,56,78,49,31,98,64,73,18,28]\n",
    "for i in nums:\n",
    "    if i%5==0:\n",
    "        print(i)\n",
    "        break \n",
    "else:\n",
    "        print(\"not found\")\n",
    "        #so that we use this else in for loop to execute this in only once"
   ]
  },
  {
   "cell_type": "code",
   "execution_count": 7,
   "metadata": {},
   "outputs": [
    {
     "name": "stdout",
     "output_type": "stream",
     "text": [
      "enter the prime number : 56\n",
      "not prime\n"
     ]
    }
   ],
   "source": [
    "#for prime number by use of for-else loop\n",
    "num = int(input(\"enter the prime number : \"))\n",
    "for i in range(2,num):\n",
    "    if(num%i==0):\n",
    "        print(\"not prime\")\n",
    "        break\n",
    "else:\n",
    "    print(\"prime\")"
   ]
  },
  {
   "cell_type": "code",
   "execution_count": 10,
   "metadata": {},
   "outputs": [
    {
     "name": "stdout",
     "output_type": "stream",
     "text": [
      "enter the prime number : 67\n",
      "prime\n"
     ]
    }
   ],
   "source": [
    "num = int(input(\"enter the prime number : \"))\n",
    "j=int(num**(1/2))\n",
    "for i in range(2,j):\n",
    "    if(num%i==0):\n",
    "        print(\"not prime\")\n",
    "        break\n",
    "else:\n",
    "    print(\"prime\")"
   ]
  },
  {
   "cell_type": "code",
   "execution_count": null,
   "metadata": {},
   "outputs": [],
   "source": []
  }
 ],
 "metadata": {
  "kernelspec": {
   "display_name": "Python 3",
   "language": "python",
   "name": "python3"
  },
  "language_info": {
   "codemirror_mode": {
    "name": "ipython",
    "version": 3
   },
   "file_extension": ".py",
   "mimetype": "text/x-python",
   "name": "python",
   "nbconvert_exporter": "python",
   "pygments_lexer": "ipython3",
   "version": "3.8.3"
  }
 },
 "nbformat": 4,
 "nbformat_minor": 4
}
