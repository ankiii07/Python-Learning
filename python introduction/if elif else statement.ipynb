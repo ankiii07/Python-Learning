{
 "cells": [
  {
   "cell_type": "code",
   "execution_count": 1,
   "metadata": {},
   "outputs": [
    {
     "name": "stdout",
     "output_type": "stream",
     "text": [
      "ankit\n",
      "yadav\n"
     ]
    }
   ],
   "source": [
    "if True:\n",
    "    print(\"ankit\")\n",
    "print(\"yadav\")"
   ]
  },
  {
   "cell_type": "code",
   "execution_count": 2,
   "metadata": {},
   "outputs": [
    {
     "name": "stdout",
     "output_type": "stream",
     "text": [
      "yadav\n"
     ]
    }
   ],
   "source": [
    "if False:\n",
    "    print(\"ankit\")\n",
    "print(\"yadav\")"
   ]
  },
  {
   "cell_type": "code",
   "execution_count": 7,
   "metadata": {},
   "outputs": [
    {
     "name": "stdout",
     "output_type": "stream",
     "text": [
      "enter the number : 79\n",
      "odd number\n"
     ]
    }
   ],
   "source": [
    "a = int(input(\"enter the number : \"))\n",
    "if a%2==0:\n",
    "    print(\"even number\")\n",
    "if a%2!=0:\n",
    "    print(\"odd number\")"
   ]
  },
  {
   "cell_type": "code",
   "execution_count": 8,
   "metadata": {},
   "outputs": [
    {
     "name": "stdout",
     "output_type": "stream",
     "text": [
      "enter the number : 47\n",
      "odd number\n"
     ]
    }
   ],
   "source": [
    "# program to check whether a number is even or odd.\n",
    "a = int(input(\"enter the number : \"))\n",
    "if a%2==0:\n",
    "    print(\"even number\")\n",
    "else:\n",
    "    print(\"odd number\")"
   ]
  },
  {
   "cell_type": "code",
   "execution_count": 7,
   "metadata": {},
   "outputs": [
    {
     "name": "stdout",
     "output_type": "stream",
     "text": [
      "enter the number : 78\n",
      "greater than 20\n"
     ]
    }
   ],
   "source": [
    "a = int(input(\"enter the number : \"))\n",
    "if a==0:\n",
    "    print(\"zero\")\n",
    "elif a>=1 and a<=10:\n",
    "    print(\"number is in between 1 to 10\")\n",
    "elif a>=11 and a<=20:\n",
    "    print(\"number is in between 11 to 20\")\n",
    "else:\n",
    "    print(\"greater than 20\")\n",
    "    "
   ]
  },
  {
   "cell_type": "code",
   "execution_count": 10,
   "metadata": {},
   "outputs": [
    {
     "name": "stdout",
     "output_type": "stream",
     "text": [
      "enter the first number : 56\n",
      "enter the second number : 89\n",
      "enter the third number : 56\n",
      "89\n"
     ]
    }
   ],
   "source": [
    "#program to find maximum between three numbers.\n",
    "a = int(input(\"enter the first number : \"))\n",
    "b = int(input(\"enter the second number : \"))\n",
    "c = int(input(\"enter the third number : \"))\n",
    "if(a >= b):\n",
    "    if(a >= c):\n",
    "        print(a)\n",
    "    else:\n",
    "        print(c)\n",
    "else:\n",
    "    if(b >= c):\n",
    "        print(b)\n",
    "    else:\n",
    "        print(c)"
   ]
  },
  {
   "cell_type": "code",
   "execution_count": 12,
   "metadata": {},
   "outputs": [
    {
     "name": "stdout",
     "output_type": "stream",
     "text": [
      "enter the first number : -34\n",
      "negative number\n"
     ]
    }
   ],
   "source": [
    "#program to check whether a number is negative, positive or zero.\n",
    "a = int(input(\"enter the first number : \"))\n",
    "if(a<=0):\n",
    "    print(\"negative number\")\n",
    "elif(a==0):\n",
    "    print(\"zero\")\n",
    "else:\n",
    "    print(\"positive number\")"
   ]
  },
  {
   "cell_type": "code",
   "execution_count": 13,
   "metadata": {},
   "outputs": [
    {
     "name": "stdout",
     "output_type": "stream",
     "text": [
      "enter the first number : 78\n",
      "number not divisible by bot 5 & 11\n"
     ]
    }
   ],
   "source": [
    "#program to check whether a number is divisible by 5 and 11 or not.\n",
    "a = int(input(\"enter the first number : \"))\n",
    "if(a%5==0):\n",
    "    print(\"number is divisible by 5\")\n",
    "elif(a%11==0):\n",
    "    print(\"number is divisible by 11\")\n",
    "else:\n",
    "    print(\"number not divisible by bot 5 & 11\")"
   ]
  },
  {
   "cell_type": "code",
   "execution_count": 16,
   "metadata": {},
   "outputs": [
    {
     "name": "stdout",
     "output_type": "stream",
     "text": [
      "enter the first number : 2012\n",
      "leap year\n"
     ]
    }
   ],
   "source": [
    "#program to check whether a year is leap year or not.\n",
    "a = int(input(\"enter the first number : \"))\n",
    "if(a%4==0):\n",
    "    print(\"leap year\")\n",
    "elif(a%400==0):\n",
    "    print(\"leap year\")\n",
    "elif(a%100==0):\n",
    "    print(\"not leap year\")\n",
    "else:\n",
    "    print(\"not leap year\")\n",
    "    "
   ]
  },
  {
   "cell_type": "code",
   "execution_count": 18,
   "metadata": {},
   "outputs": [
    {
     "name": "stdout",
     "output_type": "stream",
     "text": [
      "enter the character : G\n",
      "it is alphabet\n"
     ]
    }
   ],
   "source": [
    "#program to check whether a character is alphabet or not.\n",
    "ch = input('enter the character : ')\n",
    "if((ch >= 'a' and ch <= 'z') or (ch >= 'A' and ch <= 'Z')):\n",
    "    print(\"it is alphabet\")\n",
    "else:\n",
    "    print(\"it is not alphabet\")"
   ]
  },
  {
   "cell_type": "code",
   "execution_count": 19,
   "metadata": {},
   "outputs": [
    {
     "name": "stdout",
     "output_type": "stream",
     "text": [
      "Enter the Character : 7\n",
      "The Given Character is a Digit\n"
     ]
    }
   ],
   "source": [
    "# Python Program to check character is Alphabet Digit or Special Character\n",
    "ch = input(\"Enter the Character : \")\n",
    "\n",
    "if((ch >= 'a' and ch <= 'z') or (ch >= 'A' and ch <= 'Z')): \n",
    "    print(\"The Given Character is an Alphabet\") \n",
    "elif(ch >= '0' and ch <= '9'):\n",
    "    print(\"The Given Character is a Digit\")\n",
    "else:\n",
    "    print(\"The Given Character is a Special Character\")"
   ]
  },
  {
   "cell_type": "code",
   "execution_count": 25,
   "metadata": {},
   "outputs": [
    {
     "name": "stdout",
     "output_type": "stream",
     "text": [
      "enter the first number : 2500\n",
      "1\n"
     ]
    }
   ],
   "source": [
    "# program to count total number of notes in given amount.\n",
    "a = int(input(\"enter the first number : \"))\n",
    "if(a>2000):\n",
    "    two000 = int(a/2000);\n",
    "    print(two000)\n",
    "    a =a- a*2000;\n",
    "    if(a>=500 and a<2000):\n",
    "        five00 = int(a/500);\n",
    "        print(five00)\n",
    "        a =a- a*500;\n",
    "        if(a>=200 and a<500):\n",
    "            two00 = int(a/200);\n",
    "            a  = a-a*200;\n",
    "            print(two00)\n",
    "            if(a>=100 and a<200):\n",
    "                one00 = int(a/100);\n",
    "                a =a- a*100;\n",
    "                print(one00)\n",
    "                if(a>=50 and a<100):\n",
    "                    fifty = int(a/50);\n",
    "                    a  =a- a*50;\n",
    "                    print(fifty)\n",
    "                    if(a>=20 and a<50):\n",
    "                        twenty = int(a/20);\n",
    "                        a =a- a*20;\n",
    "                        print(twenty)\n",
    "                        if(a>=10 and a<20):\n",
    "                            ten = int(a/10);\n",
    "                            a  = a - a*10;\n",
    "                            print(ten)\n",
    "\n",
    "    \n",
    "    "
   ]
  },
  {
   "cell_type": "code",
   "execution_count": null,
   "metadata": {},
   "outputs": [],
   "source": []
  }
 ],
 "metadata": {
  "kernelspec": {
   "display_name": "Python 3",
   "language": "python",
   "name": "python3"
  },
  "language_info": {
   "codemirror_mode": {
    "name": "ipython",
    "version": 3
   },
   "file_extension": ".py",
   "mimetype": "text/x-python",
   "name": "python",
   "nbconvert_exporter": "python",
   "pygments_lexer": "ipython3",
   "version": "3.8.3"
  }
 },
 "nbformat": 4,
 "nbformat_minor": 4
}
