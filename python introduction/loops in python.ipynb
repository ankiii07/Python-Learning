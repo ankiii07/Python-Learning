{
 "cells": [
  {
   "cell_type": "code",
   "execution_count": 2,
   "metadata": {},
   "outputs": [
    {
     "name": "stdout",
     "output_type": "stream",
     "text": [
      "ankit yadav\n",
      "ankit yadav\n",
      "ankit yadav\n",
      "ankit yadav\n",
      "ankit yadav\n",
      "ankit yadav\n",
      "ankit yadav\n",
      "ankit yadav\n",
      "ankit yadav\n",
      "ankit yadav\n"
     ]
    }
   ],
   "source": [
    "i=1                                #initialisation\n",
    "while i<=10:                        #condition\n",
    "    print(\"ankit yadav\")\n",
    "    i=i+1                            #increament"
   ]
  },
  {
   "cell_type": "code",
   "execution_count": 12,
   "metadata": {},
   "outputs": [
    {
     "name": "stdout",
     "output_type": "stream",
     "text": [
      "1 : ankit yadav1 nested while\n",
      "2 nested while\n",
      "3 nested while\n",
      "4 nested while\n",
      "5 nested while\n",
      "\n",
      "2 : ankit yadav\n",
      "3 : ankit yadav\n",
      "4 : ankit yadav\n",
      "5 : ankit yadav\n",
      "6 : ankit yadav\n",
      "7 : ankit yadav\n",
      "8 : ankit yadav\n",
      "9 : ankit yadav\n",
      "10 : ankit yadav\n"
     ]
    }
   ],
   "source": [
    "i=1\n",
    "j=1\n",
    "while i<=10:                    \n",
    "    print(i,\": ankit yadav\",end=\"\")\n",
    "    while j<=5:\n",
    "        print(j, \"nested while\")\n",
    "        j=j+1\n",
    "        \n",
    "    i=i+1 \n",
    "    print()"
   ]
  },
  {
   "cell_type": "code",
   "execution_count": 15,
   "metadata": {},
   "outputs": [
    {
     "name": "stdout",
     "output_type": "stream",
     "text": [
      "ankit\n",
      "56\n",
      "9.89\n",
      "andrew\n",
      "['ankit', 56, 9.89, 'andrew']\n"
     ]
    }
   ],
   "source": [
    "x=['ankit',56,9.89,'andrew']\n",
    "for i in x:\n",
    "    print(i)\n",
    "    \n",
    "print(x)"
   ]
  },
  {
   "cell_type": "code",
   "execution_count": 19,
   "metadata": {},
   "outputs": [
    {
     "name": "stdout",
     "output_type": "stream",
     "text": [
      "A\n",
      "N\n",
      "K\n",
      "I\n",
      "T\n",
      " \n",
      "Y\n",
      "A\n",
      "D\n",
      "A\n",
      "V\n",
      "ANKIT YADAV\n"
     ]
    }
   ],
   "source": [
    "x ='ANKIT YADAV'\n",
    "for i in x:\n",
    "    print(i)\n",
    "print(x)\n"
   ]
  },
  {
   "cell_type": "code",
   "execution_count": 21,
   "metadata": {},
   "outputs": [
    {
     "name": "stdout",
     "output_type": "stream",
     "text": [
      "6\n",
      "4\n",
      "2\n"
     ]
    }
   ],
   "source": [
    "for i in range(6, 1,-2):\n",
    "    print(i)"
   ]
  },
  {
   "cell_type": "code",
   "execution_count": 22,
   "metadata": {},
   "outputs": [
    {
     "name": "stdout",
     "output_type": "stream",
     "text": [
      "5\n",
      "10\n",
      "15\n",
      "20\n"
     ]
    }
   ],
   "source": [
    "for i in range(1,21):\n",
    "    if(i%5==0):\n",
    "        print(i)"
   ]
  },
  {
   "cell_type": "code",
   "execution_count": 30,
   "metadata": {},
   "outputs": [
    {
     "name": "stdout",
     "output_type": "stream",
     "text": [
      "how many candies you want : 21\n",
      "out of stock\n"
     ]
    }
   ],
   "source": [
    "#program for number of candies asked by user\n",
    "av =20\n",
    "x = int(input(\"how many candies you want : \"))\n",
    "for i in range(0,x):\n",
    "    if(x>=av):\n",
    "        print(\"out of stock\")\n",
    "        break\n",
    "        \n",
    "    print(\"candy\")\n",
    "    i=i+1"
   ]
  },
  {
   "cell_type": "code",
   "execution_count": 35,
   "metadata": {},
   "outputs": [
    {
     "name": "stdout",
     "output_type": "stream",
     "text": [
      "1\n",
      "2\n",
      "4\n",
      "7\n",
      "8\n",
      "11\n",
      "13\n",
      "14\n",
      "16\n",
      "17\n",
      "19\n",
      "22\n",
      "23\n",
      "26\n",
      "28\n",
      "29\n",
      "31\n",
      "32\n",
      "34\n",
      "37\n",
      "38\n",
      "41\n",
      "43\n",
      "44\n",
      "46\n",
      "47\n",
      "49\n",
      "52\n",
      "53\n",
      "56\n",
      "58\n",
      "59\n",
      "61\n",
      "62\n",
      "64\n",
      "67\n",
      "68\n",
      "71\n",
      "73\n",
      "74\n",
      "76\n",
      "77\n",
      "79\n",
      "82\n",
      "83\n",
      "86\n",
      "88\n",
      "89\n",
      "91\n",
      "92\n",
      "94\n",
      "97\n",
      "98\n"
     ]
    }
   ],
   "source": [
    "for i in range(0,100):\n",
    "    if(i%3==0):\n",
    "        continue\n",
    "    if(i%5==0):\n",
    "        continue\n",
    "    print(i)"
   ]
  },
  {
   "cell_type": "code",
   "execution_count": 37,
   "metadata": {},
   "outputs": [
    {
     "name": "stdout",
     "output_type": "stream",
     "text": [
      "2\n",
      "4\n",
      "6\n",
      "8\n",
      "10\n",
      "12\n",
      "14\n",
      "16\n",
      "18\n",
      "20\n",
      "22\n",
      "24\n",
      "26\n",
      "28\n",
      "30\n",
      "32\n",
      "34\n",
      "36\n",
      "38\n",
      "40\n",
      "42\n",
      "44\n",
      "46\n",
      "48\n",
      "50\n",
      "52\n",
      "54\n",
      "56\n",
      "58\n",
      "60\n",
      "62\n",
      "64\n",
      "66\n",
      "68\n",
      "70\n",
      "72\n",
      "74\n",
      "76\n",
      "78\n",
      "80\n",
      "82\n",
      "84\n",
      "86\n",
      "88\n",
      "90\n",
      "92\n",
      "94\n",
      "96\n",
      "98\n"
     ]
    }
   ],
   "source": [
    "#do not print odd number\n",
    "for i in range(1,100):\n",
    "    if(i%2!=0):\n",
    "        pass\n",
    "    else:\n",
    "        print(i)\n",
    "    "
   ]
  },
  {
   "cell_type": "code",
   "execution_count": 43,
   "metadata": {},
   "outputs": [
    {
     "name": "stdout",
     "output_type": "stream",
     "text": [
      "enter the number : 456\n",
      "3\n"
     ]
    }
   ],
   "source": [
    "#Given a number count the total number of digits in a number\n",
    "x = int(input(\"enter the number : \"))\n",
    "count = 0\n",
    "while x!=0:\n",
    "    x = x // 10\n",
    "    count = count +1\n",
    "print(count)\n",
    "    \n",
    "    "
   ]
  },
  {
   "cell_type": "code",
   "execution_count": 46,
   "metadata": {},
   "outputs": [
    {
     "name": "stdout",
     "output_type": "stream",
     "text": [
      "15\n",
      "55\n",
      "75\n",
      "150\n"
     ]
    }
   ],
   "source": [
    "#  Given a list, iterate it, and display numbers divisible by five, and if you find a number greater than 150, stop the loop iteration.\n",
    "list = [12, 15, 32, 42, 55, 75, 122, 132, 150, 180, 200]\n",
    "for i in list:\n",
    "    if(i%5==0):\n",
    "        if(i<=150):\n",
    "            print(i)\n",
    "    "
   ]
  },
  {
   "cell_type": "code",
   "execution_count": 49,
   "metadata": {},
   "outputs": [
    {
     "name": "stdout",
     "output_type": "stream",
     "text": [
      "10\n",
      "9\n",
      "8\n",
      "7\n",
      "6\n",
      "5\n",
      "4\n",
      "3\n",
      "2\n",
      "1\n"
     ]
    }
   ],
   "source": [
    "#Reverse the following list using for loop\n",
    "for i in range(10,0,-1):\n",
    "    print(i)"
   ]
  },
  {
   "cell_type": "code",
   "execution_count": 63,
   "metadata": {},
   "outputs": [
    {
     "name": "stdout",
     "output_type": "stream",
     "text": [
      "enter the start of range : 67\n",
      "enter the end of range : 90\n",
      "67\n",
      "71\n",
      "73\n",
      "79\n",
      "83\n",
      "89\n"
     ]
    }
   ],
   "source": [
    "#Write a program to display all prime numbers within a range\n",
    "start = int(input(\"enter the start of range : \"))\n",
    "end = int(input(\"enter the end of range : \"))\n",
    "for number in range(start,end+1):\n",
    "    if(number>1):\n",
    "        for i in range(2,number):\n",
    "            if((number%i)==0):\n",
    "                break\n",
    "        else:\n",
    "            print(number)"
   ]
  },
  {
   "cell_type": "code",
   "execution_count": 67,
   "metadata": {},
   "outputs": [
    {
     "name": "stdout",
     "output_type": "stream",
     "text": [
      "enter the number : 9\n",
      "0 1 1 2 3 5 8 13 21 "
     ]
    }
   ],
   "source": [
    "#Display Fibonacci series up to 10 terms\n",
    "x = int(input(\"enter the number : \"))\n",
    "a = 0\n",
    "b = 1\n",
    "c = 0\n",
    "print(a,b,end=\" \")\n",
    "for i in range(2,x):\n",
    "    c = a + b\n",
    "    print(c,end=\" \")\n",
    "    a=b\n",
    "    b=c"
   ]
  },
  {
   "cell_type": "code",
   "execution_count": 70,
   "metadata": {},
   "outputs": [
    {
     "name": "stdout",
     "output_type": "stream",
     "text": [
      "enter the number : 1\n",
      "1\n"
     ]
    }
   ],
   "source": [
    "# Write a loop to find the factorial of any number\n",
    "x = int(input(\"enter the number : \"))\n",
    "fact=1\n",
    "if(x==0):\n",
    "    print(\"factorial of zero is 1\")\n",
    "else:\n",
    "    for i in range(1,x+1):\n",
    "        fact = fact * i\n",
    "    print(fact)"
   ]
  },
  {
   "cell_type": "code",
   "execution_count": 72,
   "metadata": {},
   "outputs": [
    {
     "name": "stdout",
     "output_type": "stream",
     "text": [
      "enter the number : 78945\n",
      "54987\n"
     ]
    }
   ],
   "source": [
    "#Reverse a given integer number\n",
    "x = int(input(\"enter the number : \"))\n",
    "reverse = 0\n",
    "remain =0\n",
    "while x>0:\n",
    "    remain = x%10\n",
    "    reverse = (reverse*10) +remain\n",
    "    x = x//10\n",
    "print(reverse)"
   ]
  },
  {
   "cell_type": "code",
   "execution_count": 73,
   "metadata": {},
   "outputs": [
    {
     "name": "stdout",
     "output_type": "stream",
     "text": [
      "enter the number : 6\n",
      "2 22 222 2222 22222 222222 246912\n"
     ]
    }
   ],
   "source": [
    "# Find the sum of the series 2 +22 + 222 + 2222 + .. n terms\n",
    "x = int(input(\"enter the number : \"))\n",
    "sum = 0\n",
    "start = 2\n",
    "for i in range(0,x):\n",
    "    print(start, end=\" \")\n",
    "    sum = sum + start\n",
    "    start = (start * 10) + 2\n",
    "print(sum)"
   ]
  },
  {
   "cell_type": "code",
   "execution_count": 81,
   "metadata": {},
   "outputs": [
    {
     "name": "stdout",
     "output_type": "stream",
     "text": [
      "enter the number : 5\n",
      "* \n",
      "* * \n",
      "* * * \n",
      "* * * * \n",
      "* * * * * \n"
     ]
    }
   ],
   "source": [
    "#* \n",
    "#* * \n",
    "#* * * \n",
    "#* * * * \n",
    "#* * * * * \n",
    "#Print the following pattern\n",
    "x = int(input(\"enter the number : \"))\n",
    "for i in range(0,x):\n",
    "    for j in range(0,i+1):\n",
    "        print(\"*\",end=\" \")\n",
    "    print(\"\\r\")"
   ]
  },
  {
   "cell_type": "code",
   "execution_count": 84,
   "metadata": {},
   "outputs": [
    {
     "name": "stdout",
     "output_type": "stream",
     "text": [
      "enter the number : 5\n",
      "* * * * * \n",
      "* * * * \n",
      "* * * \n",
      "* * \n",
      "* \n"
     ]
    }
   ],
   "source": [
    "#* * * * * \n",
    "#* * * * \n",
    "#* * * \n",
    "#* * \n",
    "#*\n",
    "#Print the following pattern\n",
    "x = int(input(\"enter the number : \"))\n",
    "for i in range(x,0,-1):\n",
    "    for j in range(0,i):\n",
    "        print(\"*\",end=\" \")\n",
    "    print(\"\\r\")"
   ]
  },
  {
   "cell_type": "code",
   "execution_count": 85,
   "metadata": {},
   "outputs": [
    {
     "name": "stdout",
     "output_type": "stream",
     "text": [
      "enter the number : 7890\n",
      "0987"
     ]
    }
   ],
   "source": [
    "#Reverse a given integer numbers\n",
    "num = int(input(\"enter the number : \"))\n",
    "while num > 0:\n",
    "    digit = num % 10\n",
    "    num = num // 10\n",
    "    print(digit, end='')"
   ]
  },
  {
   "cell_type": "code",
   "execution_count": null,
   "metadata": {},
   "outputs": [],
   "source": []
  }
 ],
 "metadata": {
  "kernelspec": {
   "display_name": "Python 3",
   "language": "python",
   "name": "python3"
  },
  "language_info": {
   "codemirror_mode": {
    "name": "ipython",
    "version": 3
   },
   "file_extension": ".py",
   "mimetype": "text/x-python",
   "name": "python",
   "nbconvert_exporter": "python",
   "pygments_lexer": "ipython3",
   "version": "3.8.3"
  }
 },
 "nbformat": 4,
 "nbformat_minor": 4
}
