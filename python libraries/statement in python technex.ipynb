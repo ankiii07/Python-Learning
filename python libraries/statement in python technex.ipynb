{
 "cells": [
  {
   "cell_type": "markdown",
   "metadata": {},
   "source": [
    "# parts of function"
   ]
  },
  {
   "cell_type": "code",
   "execution_count": 1,
   "metadata": {},
   "outputs": [
    {
     "name": "stdout",
     "output_type": "stream",
     "text": [
      "local= 6\n",
      "global= 6\n"
     ]
    }
   ],
   "source": [
    "a=5\n",
    "def fun1():\n",
    "    global a\n",
    "    a=6\n",
    "    \n",
    "    print(\"local=\",a)\n",
    "    \n",
    "fun1()\n",
    "print(\"global=\",a)\n"
   ]
  },
  {
   "cell_type": "code",
   "execution_count": 2,
   "metadata": {},
   "outputs": [
    {
     "name": "stdout",
     "output_type": "stream",
     "text": [
      "local= 6\n",
      "global= 13\n"
     ]
    }
   ],
   "source": [
    "a=5\n",
    "def fun1():\n",
    "    global a\n",
    "    a=6\n",
    "    \n",
    "    print(\"local=\",a)\n",
    "    a=13\n",
    "    \n",
    "fun1()\n",
    "print(\"global=\",a)\n"
   ]
  },
  {
   "cell_type": "code",
   "execution_count": 4,
   "metadata": {},
   "outputs": [
    {
     "name": "stdout",
     "output_type": "stream",
     "text": [
      "local= 8\n",
      "global= 5\n"
     ]
    }
   ],
   "source": [
    "a=5\n",
    "def fun1():\n",
    "    a=8    #local var\n",
    "    print(\"local=\",a)\n",
    "    \n",
    "    x=globals()['a']\n",
    "    \n",
    "fun1()\n",
    "print(\"global=\",a)"
   ]
  },
  {
   "cell_type": "code",
   "execution_count": 5,
   "metadata": {},
   "outputs": [
    {
     "name": "stdout",
     "output_type": "stream",
     "text": [
      "140709193988000\n",
      "local= 8\n",
      "global= 5\n"
     ]
    }
   ],
   "source": [
    "a=5\n",
    "print(id(a))\n",
    "def fun1():\n",
    "    a=8    #local var\n",
    "    print(\"local=\",a)\n",
    "    \n",
    "    x=globals()['a']\n",
    "    \n",
    "fun1()\n",
    "print(\"global=\",a)"
   ]
  },
  {
   "cell_type": "code",
   "execution_count": 6,
   "metadata": {},
   "outputs": [
    {
     "name": "stdout",
     "output_type": "stream",
     "text": [
      "140709193988000\n",
      "local= 8\n",
      "140709193988000\n",
      "global= 5\n"
     ]
    }
   ],
   "source": [
    "a=5\n",
    "print(id(a))\n",
    "def fun1():\n",
    "    a=8    #local var\n",
    "    print(\"local=\",a)\n",
    "    \n",
    "    x=globals()['a']\n",
    "    print(id(x))\n",
    "    \n",
    "fun1()\n",
    "print(\"global=\",a)"
   ]
  },
  {
   "cell_type": "code",
   "execution_count": 7,
   "metadata": {},
   "outputs": [
    {
     "name": "stdout",
     "output_type": "stream",
     "text": [
      "140709193988000\n",
      "140709193988096\n",
      "local= 8\n",
      "140709193988000\n",
      "global= 5\n"
     ]
    }
   ],
   "source": [
    "a=5\n",
    "print(id(a))\n",
    "def fun1():\n",
    "    a=8 #local var\n",
    "    print(id(a))\n",
    "    print(\"local=\",a)\n",
    "    \n",
    "    x=globals()['a']\n",
    "    print(id(x))\n",
    "    \n",
    "fun1()\n",
    "print(\"global=\",a)"
   ]
  },
  {
   "cell_type": "markdown",
   "metadata": {},
   "source": [
    "# statement in python"
   ]
  },
  {
   "cell_type": "code",
   "execution_count": 8,
   "metadata": {},
   "outputs": [
    {
     "name": "stdout",
     "output_type": "stream",
     "text": [
      "value is true\n"
     ]
    }
   ],
   "source": [
    "if True:\n",
    "    print(\"value is true\")"
   ]
  },
  {
   "cell_type": "code",
   "execution_count": 9,
   "metadata": {},
   "outputs": [],
   "source": [
    "a=2\n",
    "b=6"
   ]
  },
  {
   "cell_type": "code",
   "execution_count": 10,
   "metadata": {},
   "outputs": [],
   "source": [
    "if a==b:\n",
    "    print(\"a is equal to b\")"
   ]
  },
  {
   "cell_type": "code",
   "execution_count": 11,
   "metadata": {},
   "outputs": [
    {
     "name": "stdout",
     "output_type": "stream",
     "text": [
      "a is  not equal to b\n"
     ]
    }
   ],
   "source": [
    "if a!=b:\n",
    "     print(\"a is  not equal to b\")"
   ]
  },
  {
   "cell_type": "code",
   "execution_count": 12,
   "metadata": {},
   "outputs": [],
   "source": [
    "if a>b:\n",
    "     print(\"a is equal to b\")"
   ]
  },
  {
   "cell_type": "code",
   "execution_count": 13,
   "metadata": {},
   "outputs": [],
   "source": [
    "if a>=b:\n",
    "     print(\"a is equal to b\")"
   ]
  },
  {
   "cell_type": "code",
   "execution_count": 15,
   "metadata": {},
   "outputs": [
    {
     "name": "stdout",
     "output_type": "stream",
     "text": [
      "a is less than  to b\n"
     ]
    }
   ],
   "source": [
    "if a<b:\n",
    "     print(\"a is less than  to b\")"
   ]
  },
  {
   "cell_type": "code",
   "execution_count": 16,
   "metadata": {},
   "outputs": [
    {
     "name": "stdout",
     "output_type": "stream",
     "text": [
      "a is less than  to b\n"
     ]
    }
   ],
   "source": [
    "if a<=b:\n",
    "     print(\"a is less than  to b\")"
   ]
  },
  {
   "cell_type": "code",
   "execution_count": 18,
   "metadata": {},
   "outputs": [
    {
     "name": "stdout",
     "output_type": "stream",
     "text": [
      "a is  not equal to b\n"
     ]
    }
   ],
   "source": [
    "if a==b:\n",
    "    print(\"a is equal to b\")\n",
    "else:\n",
    "     print(\"a is  not equal to b\")"
   ]
  },
  {
   "cell_type": "code",
   "execution_count": 19,
   "metadata": {},
   "outputs": [
    {
     "name": "stdout",
     "output_type": "stream",
     "text": [
      "a is less than  to b\n"
     ]
    }
   ],
   "source": [
    "if a>b:\n",
    "     print(\"a is greater than   b\")\n",
    "elif a==b:\n",
    "    print(\"a is equal to b\") \n",
    "else:\n",
    "     print(\"a is less than  to b\")    "
   ]
  },
  {
   "cell_type": "code",
   "execution_count": 1,
   "metadata": {},
   "outputs": [
    {
     "name": "stdout",
     "output_type": "stream",
     "text": [
      "enter the value of a =5\n",
      "enter the value of b =8\n"
     ]
    }
   ],
   "source": [
    "a=int(input(\"enter the value of a =\"))\n",
    "b=int(input(\"enter the value of b =\"))"
   ]
  },
  {
   "cell_type": "code",
   "execution_count": 2,
   "metadata": {},
   "outputs": [
    {
     "name": "stdout",
     "output_type": "stream",
     "text": [
      "a is less than  to b\n"
     ]
    }
   ],
   "source": [
    "if a>b:\n",
    "     print(\"a is greater than   b\")\n",
    "elif a==b:\n",
    "    print(\"a is equal to b\") \n",
    "else:\n",
    "     print(\"a is less than  to b\")    "
   ]
  },
  {
   "cell_type": "code",
   "execution_count": 3,
   "metadata": {},
   "outputs": [
    {
     "name": "stdout",
     "output_type": "stream",
     "text": [
      "enter the value of a =9\n",
      "enter the value of b =5\n",
      "enter the value of c =8\n"
     ]
    }
   ],
   "source": [
    "a=int(input(\"enter the value of a =\"))\n",
    "b=int(input(\"enter the value of b =\"))\n",
    "c=int(input(\"enter the value of c =\"))"
   ]
  },
  {
   "cell_type": "code",
   "execution_count": 4,
   "metadata": {},
   "outputs": [
    {
     "name": "stdout",
     "output_type": "stream",
     "text": [
      "both are true\n"
     ]
    }
   ],
   "source": [
    "if a>b and a>c:\n",
    "    print(\"both are true\")"
   ]
  },
  {
   "cell_type": "code",
   "execution_count": 6,
   "metadata": {},
   "outputs": [
    {
     "name": "stdout",
     "output_type": "stream",
     "text": [
      "any one condition is true true\n"
     ]
    }
   ],
   "source": [
    "if a>b or b>c:\n",
    "    print(\"any one condition is true true\")"
   ]
  },
  {
   "cell_type": "markdown",
   "metadata": {},
   "source": [
    "# nested if"
   ]
  },
  {
   "cell_type": "code",
   "execution_count": 8,
   "metadata": {},
   "outputs": [
    {
     "name": "stdout",
     "output_type": "stream",
     "text": [
      "x is above 10\n",
      "x is below 20\n"
     ]
    }
   ],
   "source": [
    "x=18\n",
    "if x>10:\n",
    "    print(\"x is above 10\")\n",
    "    if x<20:\n",
    "        print(\"x is below 20\")\n",
    "    else:\n",
    "        print(\"above 20\")"
   ]
  },
  {
   "cell_type": "markdown",
   "metadata": {},
   "source": [
    "# loops in python"
   ]
  },
  {
   "cell_type": "code",
   "execution_count": 9,
   "metadata": {},
   "outputs": [
    {
     "name": "stdout",
     "output_type": "stream",
     "text": [
      "ankit\n",
      "ankit\n",
      "ankit\n",
      "ankit\n",
      "ankit\n"
     ]
    }
   ],
   "source": [
    "a=1\n",
    "while a<=5:\n",
    "    print(\"ankit\")\n",
    "    a=a+1"
   ]
  },
  {
   "cell_type": "code",
   "execution_count": 12,
   "metadata": {},
   "outputs": [
    {
     "name": "stdout",
     "output_type": "stream",
     "text": [
      "ankit 5\n",
      "ankit 4\n",
      "ankit 3\n",
      "ankit 2\n",
      "ankit 1\n"
     ]
    }
   ],
   "source": [
    "a=5\n",
    "while a>=1:\n",
    "    print(\"ankit\",a)\n",
    "    a=a-1"
   ]
  },
  {
   "cell_type": "code",
   "execution_count": 17,
   "metadata": {},
   "outputs": [],
   "source": [
    "#for var in range(start,stop,step)"
   ]
  },
  {
   "cell_type": "code",
   "execution_count": 14,
   "metadata": {},
   "outputs": [
    {
     "name": "stdout",
     "output_type": "stream",
     "text": [
      "1\n",
      "2\n",
      "3\n",
      "4\n",
      "5\n",
      "6\n",
      "7\n",
      "8\n",
      "9\n"
     ]
    }
   ],
   "source": [
    "for i in range(1,10,1):\n",
    "    print(i)"
   ]
  },
  {
   "cell_type": "code",
   "execution_count": 15,
   "metadata": {},
   "outputs": [
    {
     "name": "stdout",
     "output_type": "stream",
     "text": [
      "1\n",
      "3\n",
      "5\n",
      "7\n",
      "9\n"
     ]
    }
   ],
   "source": [
    "for i in range(1,10,2):\n",
    "    print(i)"
   ]
  },
  {
   "cell_type": "code",
   "execution_count": 19,
   "metadata": {},
   "outputs": [
    {
     "name": "stdout",
     "output_type": "stream",
     "text": [
      "10\n",
      "7\n",
      "4\n"
     ]
    }
   ],
   "source": [
    "for i in range(10,1,-3):\n",
    "    print(i)"
   ]
  },
  {
   "cell_type": "code",
   "execution_count": 20,
   "metadata": {},
   "outputs": [
    {
     "name": "stdout",
     "output_type": "stream",
     "text": [
      "True\n"
     ]
    }
   ],
   "source": [
    "a=[1,4,8,5,9,0]\n",
    "print(i in a)"
   ]
  },
  {
   "cell_type": "code",
   "execution_count": 22,
   "metadata": {},
   "outputs": [
    {
     "name": "stdout",
     "output_type": "stream",
     "text": [
      "False\n"
     ]
    }
   ],
   "source": [
    "a=[1,4,8,5,9,0]\n",
    "print(i not in a)"
   ]
  },
  {
   "cell_type": "code",
   "execution_count": 2,
   "metadata": {},
   "outputs": [
    {
     "name": "stdout",
     "output_type": "stream",
     "text": [
      "140709193987968\n",
      "140709193988032\n",
      "False\n"
     ]
    }
   ],
   "source": [
    "p1=4\n",
    "print(id(p1))\n",
    "p2=6\n",
    "print(id(p2))\n",
    "print(p1 is p2)"
   ]
  },
  {
   "cell_type": "code",
   "execution_count": 3,
   "metadata": {},
   "outputs": [
    {
     "name": "stdout",
     "output_type": "stream",
     "text": [
      "c\n",
      "d\n",
      "e\n"
     ]
    }
   ],
   "source": [
    "list_a=[\"c\",\"d\",\"e\",\"e\"]\n",
    "for i in range(3):\n",
    "    print(list_a[i])"
   ]
  },
  {
   "cell_type": "code",
   "execution_count": null,
   "metadata": {},
   "outputs": [],
   "source": []
  }
 ],
 "metadata": {
  "kernelspec": {
   "display_name": "Python 3",
   "language": "python",
   "name": "python3"
  },
  "language_info": {
   "codemirror_mode": {
    "name": "ipython",
    "version": 3
   },
   "file_extension": ".py",
   "mimetype": "text/x-python",
   "name": "python",
   "nbconvert_exporter": "python",
   "pygments_lexer": "ipython3",
   "version": "3.8.3"
  }
 },
 "nbformat": 4,
 "nbformat_minor": 4
}
