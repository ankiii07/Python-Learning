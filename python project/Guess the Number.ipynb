{
 "cells": [
  {
   "cell_type": "code",
   "execution_count": null,
   "metadata": {},
   "outputs": [],
   "source": [
    "import random\n",
    "number = random.randint(1,100)\n",
    "print(\"you have only ten chance to guess the number\")\n",
    "for i in range(0,10):\n",
    "    user = int(input(\"guess the number : \"))\n",
    "    if user < number:\n",
    "        print(\"guess more than number\")\n",
    "    elif user >number:\n",
    "        print(\"guess less number\")\n",
    "    elif user == number:\n",
    "        print(\"you got the right muber\")\n",
    "        break\n",
    "if user!= number:\n",
    "            print(\"you got the wrong muber\")"
   ]
  },
  {
   "cell_type": "code",
   "execution_count": null,
   "metadata": {},
   "outputs": [],
   "source": []
  },
  {
   "cell_type": "code",
   "execution_count": null,
   "metadata": {},
   "outputs": [],
   "source": []
  }
 ],
 "metadata": {
  "kernelspec": {
   "display_name": "Python 3",
   "language": "python",
   "name": "python3"
  },
  "language_info": {
   "codemirror_mode": {
    "name": "ipython",
    "version": 3
   },
   "file_extension": ".py",
   "mimetype": "text/x-python",
   "name": "python",
   "nbconvert_exporter": "python",
   "pygments_lexer": "ipython3",
   "version": "3.8.3"
  }
 },
 "nbformat": 4,
 "nbformat_minor": 4
}
